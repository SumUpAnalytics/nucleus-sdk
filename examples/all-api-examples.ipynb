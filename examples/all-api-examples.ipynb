{
 "cells": [
  {
   "cell_type": "code",
   "execution_count": 1,
   "metadata": {},
   "outputs": [],
   "source": [
    "from __future__ import print_function\n",
    "import csv, json\n",
    "import time\n",
    "import nucleus_client\n",
    "from nucleus_client.rest import ApiException\n",
    "from pprint import pprint"
   ]
  },
  {
   "cell_type": "markdown",
   "metadata": {},
   "source": [
    "# Configure API host and key"
   ]
  },
  {
   "cell_type": "code",
   "execution_count": 2,
   "metadata": {},
   "outputs": [],
   "source": [
    "configuration = nucleus_client.Configuration()\n",
    "configuration.host = 'UPDATE-WITH-API-HOST'\n",
    "configuration.api_key['x-api-key'] = 'UPDATE-WITH-API-KEY'"
   ]
  },
  {
   "cell_type": "markdown",
   "metadata": {},
   "source": [
    "# Dataset APIs"
   ]
  },
  {
   "cell_type": "markdown",
   "metadata": {},
   "source": [
    "## Create API instance"
   ]
  },
  {
   "cell_type": "code",
   "execution_count": 3,
   "metadata": {},
   "outputs": [],
   "source": [
    "api_instance_dataset = nucleus_client.DatasetsApi(nucleus_client.ApiClient(configuration))"
   ]
  },
  {
   "cell_type": "markdown",
   "metadata": {},
   "source": [
    "## Append file from local drive to dataset"
   ]
  },
  {
   "cell_type": "code",
   "execution_count": 4,
   "metadata": {},
   "outputs": [],
   "source": [
    "file = 'quarles20181109a.pdf' # file | \n",
    "dataset = 'dataset_from_file' # str | Destination dataset where the file will be inserted.\n",
    "\n",
    "try:\n",
    "    api_instance_dataset.post_upload_file(file, dataset)\n",
    "except ApiException as e:\n",
    "    print(\"Exception when calling DatasetsApi->post_upload_file: %s\\n\" % e)"
   ]
  },
  {
   "cell_type": "markdown",
   "metadata": {},
   "source": [
    "## Append file from URL to dataset"
   ]
  },
  {
   "cell_type": "code",
   "execution_count": 5,
   "metadata": {},
   "outputs": [
    {
     "name": "stdout",
     "output_type": "stream",
     "text": [
      "{'success': 'https://www.federalreserve.gov/newsevents/speech/files/quarles20181109a.pdf'}\n"
     ]
    }
   ],
   "source": [
    "dataset = 'dataset_from_url'\n",
    "file_url = 'https://www.federalreserve.gov/newsevents/speech/files/quarles20181109a.pdf'\n",
    "payload = nucleus_client.UploadURLModel(\n",
    "                dataset=dataset,\n",
    "                file_url=file_url\n",
    "            ) # UploadURLModel | \n",
    "\n",
    "try:\n",
    "    api_response = api_instance_dataset.post_upload_url(payload)\n",
    "    pprint(api_response)\n",
    "except ApiException as e:\n",
    "    print(\"Exception when calling DatasetsApi->post_upload_url: %s\\n\" % e)"
   ]
  },
  {
   "cell_type": "markdown",
   "metadata": {},
   "source": [
    "## Append json from csv to dataset"
   ]
  },
  {
   "cell_type": "code",
   "execution_count": 6,
   "metadata": {},
   "outputs": [
    {
     "name": "stdout",
     "output_type": "stream",
     "text": [
      "{'success': '10'}\n"
     ]
    }
   ],
   "source": [
    "# add documents to dataset\n",
    "csv_file = 'trump-tweets-100.csv'\n",
    "dataset = 'dataset_from_json'   \n",
    "\n",
    "doc_cnt = 0\n",
    "with open(csv_file, encoding='utf-8-sig') as csvfile:\n",
    "    reader = csv.DictReader(csvfile)\n",
    "    for row in reader:\n",
    "        if doc_cnt < 10:\n",
    "            payload = nucleus_client.Appendjsonparams(dataset=dataset, \n",
    "                                                  language='english', \n",
    "                                                  document={'time'   : row['time'],\n",
    "                                                            'title'  : row['title'],\n",
    "                                                            'content': row['content'],\n",
    "                                                            'author' : row['author']}\n",
    "                                                 )\n",
    "\n",
    "            try:\n",
    "                response = api_instance_dataset.post_append_json_to_dataset(payload)\n",
    "            except ApiException as e:\n",
    "                print(\"Exception when calling DatasetsApi->post_append_json_to_dataset: %s\\n\" % e)\n",
    "        \n",
    "        doc_cnt = doc_cnt + 1\n",
    "        \n",
    "print(response)"
   ]
  },
  {
   "cell_type": "markdown",
   "metadata": {},
   "source": [
    "## List available datasets"
   ]
  },
  {
   "cell_type": "code",
   "execution_count": 7,
   "metadata": {},
   "outputs": [
    {
     "name": "stdout",
     "output_type": "stream",
     "text": [
      "{'list_datasets': \"['dataset_from_file', 'dataset_from_json', \"\n",
      "                  \"'dataset_from_url', 'dataset_json', 'dataset_test_delete', \"\n",
      "                  \"'trump_tweets', 'trump_tweets_test_1108', \"\n",
      "                  \"'trump_tweets_test1', 'trump_tweets_test111', \"\n",
      "                  \"'trump_tweets_test2']\"}\n"
     ]
    }
   ],
   "source": [
    "try:\n",
    "    api_response = api_instance_dataset.get_list_datasets()\n",
    "    pprint(api_response)\n",
    "except ApiException as e:\n",
    "    print(\"Exception when calling DatasetsApi->get_list_datasets: %s\\n\" % e)"
   ]
  },
  {
   "cell_type": "markdown",
   "metadata": {},
   "source": [
    "## Get dataset information"
   ]
  },
  {
   "cell_type": "code",
   "execution_count": 8,
   "metadata": {},
   "outputs": [
    {
     "name": "stdout",
     "output_type": "stream",
     "text": [
      "{'dataset': 'dataset_from_file',\n",
      " 'detected_language': 'en',\n",
      " 'metadata': '{}',\n",
      " 'num_documents': '17',\n",
      " 'time_range': '[1541826797.0, 1542383873.0]'}\n"
     ]
    }
   ],
   "source": [
    "dataset = 'dataset_from_file' # str | Dataset name.\n",
    "query = '' # str | Fulltext query, using mysql MATCH boolean query format. (optional)\n",
    "metadata_selection = '' # str | json object of {\\\"metadata_field\\\":[\\\"selected_values\\\"]} (optional)\n",
    "time_period = '' # str | Time period selection (optional)\n",
    "\n",
    "try:\n",
    "    api_response = api_instance_dataset.get_dataset_info(dataset, \n",
    "                                                 query=query, \n",
    "                                                 metadata_selection=metadata_selection, \n",
    "                                                 time_period=time_period)\n",
    "    pprint(api_response)\n",
    "except ApiException as e:\n",
    "    print(\"Exception when calling DatasetsApi->get_dataset_info: %s\\n\" % e)"
   ]
  },
  {
   "cell_type": "markdown",
   "metadata": {},
   "source": [
    "## Delete a document"
   ]
  },
  {
   "cell_type": "code",
   "execution_count": 9,
   "metadata": {},
   "outputs": [
    {
     "name": "stdout",
     "output_type": "stream",
     "text": [
      "{'success': 'Document deleted'}\n"
     ]
    }
   ],
   "source": [
    "dataset = 'dataset_from_json'\n",
    "payload = nucleus_client.Deletedocumentmodel(dataset=dataset,\n",
    "                                             docid='1') # Deletedocumentmodel | \n",
    "\n",
    "try:\n",
    "    api_response = api_instance_dataset.post_delete_document(payload)\n",
    "    pprint(api_response)\n",
    "except ApiException as e:\n",
    "    print(\"Exception when calling DatasetsApi->post_delete_document: %s\\n\" % e)"
   ]
  },
  {
   "cell_type": "markdown",
   "metadata": {},
   "source": [
    "## Delete the dataset"
   ]
  },
  {
   "cell_type": "code",
   "execution_count": 10,
   "metadata": {},
   "outputs": [
    {
     "name": "stdout",
     "output_type": "stream",
     "text": [
      "{'success': 'Dataset deleted'}\n",
      "{'list_datasets': \"['dataset_from_file', 'dataset_from_url', 'dataset_json', \"\n",
      "                  \"'dataset_test_delete', 'trump_tweets', \"\n",
      "                  \"'trump_tweets_test_1108', 'trump_tweets_test1', \"\n",
      "                  \"'trump_tweets_test111', 'trump_tweets_test2']\"}\n"
     ]
    }
   ],
   "source": [
    "dataset = 'dataset_from_json'     \n",
    "payload = nucleus_client.Deletedatasetmodel(dataset=dataset) # Deletedatasetmodel | \n",
    "\n",
    "try:\n",
    "    api_response = api_instance_dataset.post_delete_dataset(payload)\n",
    "    pprint(api_response)\n",
    "except ApiException as e:\n",
    "    print(\"Exception when calling DatasetsApi->post_delete_dataset: %s\\n\" % e)\n",
    "    \n",
    "# List datasets again to check if the specified dataset has been deleted\n",
    "try:\n",
    "    api_response = api_instance_dataset.get_list_datasets()\n",
    "    pprint(api_response)\n",
    "except ApiException as e:\n",
    "    print(\"Exception when calling DatasetsApi->get_list_datasets: %s\\n\" % e)"
   ]
  },
  {
   "cell_type": "markdown",
   "metadata": {},
   "source": [
    "## Create a full dataset for testing other APIs"
   ]
  },
  {
   "cell_type": "code",
   "execution_count": 11,
   "metadata": {},
   "outputs": [
    {
     "name": "stdout",
     "output_type": "stream",
     "text": [
      "{'success': '300'}\n"
     ]
    }
   ],
   "source": [
    "# add documents to dataset\n",
    "csv_file = 'trump-tweets-100.csv'\n",
    "dataset = 'trump_tweets'   \n",
    "\n",
    "with open(csv_file, encoding='utf-8-sig') as csvfile:\n",
    "    reader = csv.DictReader(csvfile)\n",
    "    for row in reader:\n",
    "        payload = nucleus_client.Appendjsonparams(dataset=dataset, \n",
    "                                                  language='english', \n",
    "                                                  document={'time'   : row['time'],\n",
    "                                                            'title'  : row['title'],\n",
    "                                                            'content': row['content'],\n",
    "                                                            'author' : row['author']}\n",
    "                                                 )\n",
    "\n",
    "        try:\n",
    "            response = api_instance_dataset.post_append_json_to_dataset(payload)\n",
    "        except ApiException as e:\n",
    "            print(\"Exception when calling DatasetsApi->post_append_json_to_dataset: %s\\n\" % e)\n",
    "            \n",
    "print(response)"
   ]
  },
  {
   "cell_type": "markdown",
   "metadata": {},
   "source": [
    "# Topic APIs"
   ]
  },
  {
   "cell_type": "markdown",
   "metadata": {},
   "source": [
    "## Create API Instance"
   ]
  },
  {
   "cell_type": "code",
   "execution_count": 12,
   "metadata": {},
   "outputs": [],
   "source": [
    "api_instance_topic = nucleus_client.TopicsApi(nucleus_client.ApiClient(configuration))"
   ]
  },
  {
   "cell_type": "markdown",
   "metadata": {},
   "source": [
    "## Get list of topics from dataset"
   ]
  },
  {
   "cell_type": "code",
   "execution_count": 13,
   "metadata": {},
   "outputs": [
    {
     "name": "stdout",
     "output_type": "stream",
     "text": [
      "{'results': [{'doc_id': '[2, 3, 4, 6, 7, 8, 9, 10, 11, 12, 13, 15, 16, 17, 18, '\n",
      "                        '22, 23, 24, 25, 26, 27, 28, 29, 30, 31, 32, 33, 34, '\n",
      "                        '37, 38, 39, 40, 41, 42, 43, 44, 45, 46, 47, 48, 50, '\n",
      "                        '51, 52, 53, 54, 55, 56, 57, 58, 59, 60, 62, 63, 65, '\n",
      "                        '66, 67, 68, 69, 70, 71, 72, 73, 74, 75, 76, 77, 78, '\n",
      "                        '80, 81, 82, 83, 84, 86, 87, 88, 89, 90, 91, 92, 93, '\n",
      "                        '94, 95, 96, 97, 98, 99]',\n",
      "              'doc_topic_exposure': '[0.0, 0.0, 0.0, 0.0, 0.0, 0.0, 0.0, 0.0, '\n",
      "                                    '0.0, 0.0, 0.0, 0.0, 0.3888377399818255, '\n",
      "                                    '0.22601469612858555, 0.21230383928692345, '\n",
      "                                    '0.0, 0.0, 0.2648437929112039, 0.0, 0.0, '\n",
      "                                    '0.0, 0.0, 0.0, 0.0, 0.0, 0.0, 0.0, 0.0, '\n",
      "                                    '0.0, 0.0, 0.0, 0.0, 0.0, 0.0, 0.0, '\n",
      "                                    '0.8789091315597887, 0.8380069762885911, '\n",
      "                                    '0.0, 0.0, 0.0, 0.0, 0.0, 0.0, 0.0, 0.0, '\n",
      "                                    '0.0, 0.0, 0.0, 0.0, 0.0, 0.0, 0.0, 0.0, '\n",
      "                                    '0.0, 0.0, 0.0, 0.0, 0.0, 0.0, 0.0, 0.0, '\n",
      "                                    '0.0, 0.0, 0.0, 0.0, 0.0, 0.0, 0.0, 0.0, '\n",
      "                                    '0.0, 0.0, 0.0, 0.0, 0.0, 0.0, 0.0, 0.0, '\n",
      "                                    '0.0, 0.0, 0.0, 0.0, 0.0, 0.0, 0.0, 0.0, '\n",
      "                                    '0.0]',\n",
      "              'keywords_weight': '[0.14905536596293506, 0.14796290553543182, '\n",
      "                                 '0.166984715331087, 0.10719940263410926, '\n",
      "                                 '0.10719940263410926, 0.10719940263410926, '\n",
      "                                 '0.10719940263410926, 0.10719940263410926]',\n",
      "              'strength': '0.17837120396865752',\n",
      "              'topic': 'america great;great great;andrew cuomo;total '\n",
      "                       'meltdown;taxed andrew;highest taxed;governor '\n",
      "                       'highest;cuomo total'},\n",
      "             {'doc_id': '[2, 3, 4, 6, 7, 8, 9, 10, 11, 12, 13, 15, 16, 17, 18, '\n",
      "                        '22, 23, 24, 25, 26, 27, 28, 29, 30, 31, 32, 33, 34, '\n",
      "                        '37, 38, 39, 40, 41, 42, 43, 44, 45, 46, 47, 48, 50, '\n",
      "                        '51, 52, 53, 54, 55, 56, 57, 58, 59, 60, 62, 63, 65, '\n",
      "                        '66, 67, 68, 69, 70, 71, 72, 73, 74, 75, 76, 77, 78, '\n",
      "                        '80, 81, 82, 83, 84, 86, 87, 88, 89, 90, 91, 92, 93, '\n",
      "                        '94, 95, 96, 97, 98, 99]',\n",
      "              'doc_topic_exposure': '[0.0, 0.0, 0.0, 0.0, 0.0, 0.0, 0.0, 0.0, '\n",
      "                                    '0.0, 0.0, 0.0, 0.0, 0.0, 0.0, 0.0, 0.0, '\n",
      "                                    '0.0, 0.0, 0.0, 0.0, 0.0, 0.0, 0.0, 0.0, '\n",
      "                                    '0.0, 0.0, 0.0, 0.0, 0.0, 0.0, 0.0, 0.0, '\n",
      "                                    '0.0, 0.0, 0.0, 0.0, 0.0, 0.0, 0.0, 0.0, '\n",
      "                                    '0.0, 0.0, 0.0, 0.0, 0.0, 0.0, 0.0, '\n",
      "                                    '0.8563488385776754, 0.0, 0.0, 0.0, 0.0, '\n",
      "                                    '0.8563488385776754, 0.0, 0.0, 0.0, 0.0, '\n",
      "                                    '0.0, 0.0, 0.0, 0.0, 0.0, 0.0, 0.0, 0.0, '\n",
      "                                    '0.0, 0.0, 0.0, 0.0, 0.0, 0.0, 0.0, 0.0, '\n",
      "                                    '0.0, 0.0, 0.0, 0.0, 0.0, 0.0, 0.0, 0.0, '\n",
      "                                    '0.0, 0.0, 0.0, 0.0, 0.0]',\n",
      "              'keywords_weight': '[0.1111111111111111, 0.1111111111111111, '\n",
      "                                 '0.1111111111111111, 0.1111111111111111, '\n",
      "                                 '0.1111111111111111, 0.1111111111111111, '\n",
      "                                 '0.2222222222222222, 0.1111111111111111]',\n",
      "              'strength': '0.127866975578335',\n",
      "              'topic': 'illegal aliens;united permission;schumer '\n",
      "                       'left;permission illegal;legally chuck;left '\n",
      "                       'haywire;chuck schumer;aliens treated'},\n",
      "             {'doc_id': '[2, 3, 4, 6, 7, 8, 9, 10, 11, 12, 13, 15, 16, 17, 18, '\n",
      "                        '22, 23, 24, 25, 26, 27, 28, 29, 30, 31, 32, 33, 34, '\n",
      "                        '37, 38, 39, 40, 41, 42, 43, 44, 45, 46, 47, 48, 50, '\n",
      "                        '51, 52, 53, 54, 55, 56, 57, 58, 59, 60, 62, 63, 65, '\n",
      "                        '66, 67, 68, 69, 70, 71, 72, 73, 74, 75, 76, 77, 78, '\n",
      "                        '80, 81, 82, 83, 84, 86, 87, 88, 89, 90, 91, 92, 93, '\n",
      "                        '94, 95, 96, 97, 98, 99]',\n",
      "              'doc_topic_exposure': '[0.0, 0.0, 0.0, 0.0, 0.0, 0.0, 0.0, 0.0, '\n",
      "                                    '0.1321721522194409, 0.20189629743693782, '\n",
      "                                    '0.11058315638298327, 0.0, 0.0, 0.0, 0.0, '\n",
      "                                    '0.0, 0.0, 0.0, 0.0, 0.0, 0.0, 0.0, 0.0, '\n",
      "                                    '0.0, 0.23312976334720958, 0.0, '\n",
      "                                    '0.6983237700580214, 0.0, 0.0, 0.0, 0.0, '\n",
      "                                    '0.0, 0.0, 0.0, 0.0, 0.0, 0.0, 0.0, 0.0, '\n",
      "                                    '0.0, 0.0, 0.0, 0.0, 0.0, 0.0, 0.0, 0.0, '\n",
      "                                    '0.0, 0.0, 0.0, 0.0, 0.0, 0.0, 0.0, 0.0, '\n",
      "                                    '0.0, 0.23294911836140766, 0.0, '\n",
      "                                    '0.4078767223870659, 0.0, 0.0, 0.0, 0.0, '\n",
      "                                    '0.0, 0.0, 0.0, 0.0, 0.0, 0.0, 0.0, 0.0, '\n",
      "                                    '0.0, 0.0, 0.0, 0.0, 0.0, 0.0, '\n",
      "                                    '0.26217558278906467, 0.0, 0.0, 0.0, 0.0, '\n",
      "                                    '0.0, 0.0, 0.0, 0.0]',\n",
      "              'keywords_weight': '[0.1770464256273959, 0.12117130924335964, '\n",
      "                                 '0.11485991166063132, 0.12117130924335964, '\n",
      "                                 '0.12117130924335964, 0.11485991166063132, '\n",
      "                                 '0.11485991166063132, 0.11485991166063132]',\n",
      "              'strength': '0.1699393633305403',\n",
      "              'topic': 'bruce ohr;peter strzok;fired fbi;agent peter;wife '\n",
      "                       'nelly;ohr justice;justice department;fusion gps'},\n",
      "             {'doc_id': '[2, 3, 4, 6, 7, 8, 9, 10, 11, 12, 13, 15, 16, 17, 18, '\n",
      "                        '22, 23, 24, 25, 26, 27, 28, 29, 30, 31, 32, 33, 34, '\n",
      "                        '37, 38, 39, 40, 41, 42, 43, 44, 45, 46, 47, 48, 50, '\n",
      "                        '51, 52, 53, 54, 55, 56, 57, 58, 59, 60, 62, 63, 65, '\n",
      "                        '66, 67, 68, 69, 70, 71, 72, 73, 74, 75, 76, 77, 78, '\n",
      "                        '80, 81, 82, 83, 84, 86, 87, 88, 89, 90, 91, 92, 93, '\n",
      "                        '94, 95, 96, 97, 98, 99]',\n",
      "              'doc_topic_exposure': '[0.0, 0.0, 0.0, 0.0, 0.0, 0.0, 0.0, 0.0, '\n",
      "                                    '0.0, 0.0, 0.0, 0.0, 0.08497355901709558, '\n",
      "                                    '0.0, 0.0, 0.0, 0.0, 0.0, 0.0, 0.0, 0.0, '\n",
      "                                    '0.0, 0.0, 0.0, 0.0, 0.0, 0.0, 0.0, 0.0, '\n",
      "                                    '0.0, 0.0, 0.0, 0.0, 0.0, 0.0, 0.0, 0.0, '\n",
      "                                    '0.5925426544204081, 0.0, 0.0, 0.0, 0.0, '\n",
      "                                    '0.0, 0.13913623319136428, 0.0, 0.0, 0.0, '\n",
      "                                    '0.0, 0.0, 0.0, 0.0, 0.0, 0.0, 0.0, 0.0, '\n",
      "                                    '0.2441923407645045, 0.0, '\n",
      "                                    '0.6947808903493083, 0.0, 0.0, 0.0, 0.0, '\n",
      "                                    '0.0, 0.0, 0.0, 0.0, 0.0, 0.0, 0.0, 0.0, '\n",
      "                                    '0.0, 0.0, 0.0, 0.0, 0.0, 0.0, '\n",
      "                                    '0.07532100971003569, 0.14812183129068424, '\n",
      "                                    '0.0, 0.0, 0.0, 0.0, 0.12353436761421978, '\n",
      "                                    '0.0, 0.0, 0.10976316603144337]',\n",
      "              'keywords_weight': '[0.0864194976621012, 0.10663037076231084, '\n",
      "                                 '0.08937565644729183, 0.21705283888967636, '\n",
      "                                 '0.18102318177856383, 0.1466594591358534, '\n",
      "                                 '0.0864194976621012, 0.0864194976621012]',\n",
      "              'strength': '0.14963453118630626',\n",
      "              'topic': 'witch hunt;donald trump;frame donald;hillary '\n",
      "                       'clinton;rigged witch;gregg jarrett;foxandfriends '\n",
      "                       'real;attorney witch'},\n",
      "             {'doc_id': '[2, 3, 4, 6, 7, 8, 9, 10, 11, 12, 13, 15, 16, 17, 18, '\n",
      "                        '22, 23, 24, 25, 26, 27, 28, 29, 30, 31, 32, 33, 34, '\n",
      "                        '37, 38, 39, 40, 41, 42, 43, 44, 45, 46, 47, 48, 50, '\n",
      "                        '51, 52, 53, 54, 55, 56, 57, 58, 59, 60, 62, 63, 65, '\n",
      "                        '66, 67, 68, 69, 70, 71, 72, 73, 74, 75, 76, 77, 78, '\n",
      "                        '80, 81, 82, 83, 84, 86, 87, 88, 89, 90, 91, 92, 93, '\n",
      "                        '94, 95, 96, 97, 98, 99]',\n",
      "              'doc_topic_exposure': '[0.0, 0.0, 0.0, 0.0, 0.0, '\n",
      "                                    '0.14545588498712597, 0.0, 0.0, 0.0, 0.0, '\n",
      "                                    '0.0, 0.0, 0.0, 0.0, 0.0, 0.0, 0.0, 0.0, '\n",
      "                                    '0.0, 0.0, 0.0, 0.0, 0.0, 0.0, 0.0, 0.0, '\n",
      "                                    '0.0, 0.0, 0.0, 0.17814634915170735, 0.0, '\n",
      "                                    '0.4495794962992913, 0.0, 0.0, 0.0, 0.0, '\n",
      "                                    '0.0, 0.0, 0.0, 0.0, 0.0, 0.0, 0.0, 0.0, '\n",
      "                                    '0.0, 0.0, 0.0, 0.0, 0.0, 0.0, 0.0, 0.0, '\n",
      "                                    '0.0, 0.0, 0.0, 0.0, 0.0, 0.0, 0.0, 0.0, '\n",
      "                                    '0.0, 0.0, 0.0, 0.0, 0.0, 0.0, 0.0, 0.0, '\n",
      "                                    '0.0, 0.0, 0.0, 0.0, 0.0, 0.0, 0.0, '\n",
      "                                    '0.19012969354861023, 0.0, 0.0, 0.0, '\n",
      "                                    '0.7407154545618597, 0.0, '\n",
      "                                    '0.1552402447152766, 0.0, 0.0, 0.0, 0.0]',\n",
      "              'keywords_weight': '[0.18180528180141983, 0.14262476425556084, '\n",
      "                                 '0.13720328827832373, 0.10767333313293909, '\n",
      "                                 '0.10767333313293909, 0.10767333313293909, '\n",
      "                                 '0.10767333313293909, 0.10767333313293909]',\n",
      "              'strength': '0.10265407626833728',\n",
      "              'topic': 'fake news;news media;wacky omarosa;will '\n",
      "                       'overtime;presidential lowlife;omarosa modern;modern '\n",
      "                       'form;media will'},\n",
      "             {'doc_id': '[2, 3, 4, 6, 7, 8, 9, 10, 11, 12, 13, 15, 16, 17, 18, '\n",
      "                        '22, 23, 24, 25, 26, 27, 28, 29, 30, 31, 32, 33, 34, '\n",
      "                        '37, 38, 39, 40, 41, 42, 43, 44, 45, 46, 47, 48, 50, '\n",
      "                        '51, 52, 53, 54, 55, 56, 57, 58, 59, 60, 62, 63, 65, '\n",
      "                        '66, 67, 68, 69, 70, 71, 72, 73, 74, 75, 76, 77, 78, '\n",
      "                        '80, 81, 82, 83, 84, 86, 87, 88, 89, 90, 91, 92, 93, '\n",
      "                        '94, 95, 96, 97, 98, 99]',\n",
      "              'doc_topic_exposure': '[0.0, 0.0, 0.0, 0.0, 0.0, 0.0, 0.0, 0.0, '\n",
      "                                    '0.0, 0.0, 0.0, 0.0, 0.0, 0.0, 0.0, 0.0, '\n",
      "                                    '0.0, 0.0, 0.0, 0.0, 0.08636251935404249, '\n",
      "                                    '0.0, 0.0, 0.0, 0.0, 0.0, 0.0, 0.0, 0.0, '\n",
      "                                    '0.0, 0.0, 0.0, 0.0, 0.0, '\n",
      "                                    '0.08849524838451062, 0.0, 0.0, 0.0, 0.0, '\n",
      "                                    '0.0, 0.0, 0.0, 0.0, 0.0, 0.0, 0.0, 0.0, '\n",
      "                                    '0.0, 0.0, 0.0, 0.0, 0.0, 0.0, 0.0, '\n",
      "                                    '0.7063739604860196, 0.0, 0.0, 0.0, 0.0, '\n",
      "                                    '0.0, 0.0, 0.815650392470291, 0.0, 0.0, '\n",
      "                                    '0.0, 0.0, 0.0, 0.0, 0.0, 0.0, 0.0, 0.0, '\n",
      "                                    '0.0, 0.0, 0.0, 0.0, 0.0, 0.0, 0.0, 0.0, '\n",
      "                                    '0.0, 0.0, 0.0, 0.0, 0.0, 0.0]',\n",
      "              'keywords_weight': '[0.14006843551915632, 0.12284736635440624, '\n",
      "                                 '0.12284736635440624, 0.12284736635440624, '\n",
      "                                 '0.12284736635440624, 0.12284736635440624, '\n",
      "                                 '0.12284736635440624, 0.12284736635440624]',\n",
      "              'strength': '0.11927217501994786',\n",
      "              'topic': 'trump campaign;lou dobbs;forward special;evidence '\n",
      "                       'collusion;democrats evidence;conflicts angry;collusion '\n",
      "                       'trump;angry democrats'},\n",
      "             {'doc_id': '[2, 3, 4, 6, 7, 8, 9, 10, 11, 12, 13, 15, 16, 17, 18, '\n",
      "                        '22, 23, 24, 25, 26, 27, 28, 29, 30, 31, 32, 33, 34, '\n",
      "                        '37, 38, 39, 40, 41, 42, 43, 44, 45, 46, 47, 48, 50, '\n",
      "                        '51, 52, 53, 54, 55, 56, 57, 58, 59, 60, 62, 63, 65, '\n",
      "                        '66, 67, 68, 69, 70, 71, 72, 73, 74, 75, 76, 77, 78, '\n",
      "                        '80, 81, 82, 83, 84, 86, 87, 88, 89, 90, 91, 92, 93, '\n",
      "                        '94, 95, 96, 97, 98, 99]',\n",
      "              'doc_topic_exposure': '[0.0, 0.0, 0.0, 0.0, 0.0, 0.0, 0.0, 0.0, '\n",
      "                                    '0.0, 0.0, 0.0, 0.0, 0.0, 0.0, 0.0, 0.0, '\n",
      "                                    '0.0, 0.0, 0.0, 0.0, 0.0, '\n",
      "                                    '0.15481561212203931, 0.0, 0.0, 0.0, 0.0, '\n",
      "                                    '0.0, 0.0, 0.0, 0.0, 0.0, 0.0, 0.0, 0.0, '\n",
      "                                    '0.0, 0.0, 0.0, 0.0, 0.0, 0.0, 0.0, 0.0, '\n",
      "                                    '0.1138509720303427, 0.0, 0.0, 0.0, 0.0, '\n",
      "                                    '0.0, 0.0, 0.0, 0.0, 0.0, 0.0, 0.0, 0.0, '\n",
      "                                    '0.0, 0.0, 0.0, 0.0, 0.0, 0.0, 0.0, '\n",
      "                                    '0.2662975899698409, 0.0, '\n",
      "                                    '0.6330577514401986, 0.0, 0.0, 0.0, 0.0, '\n",
      "                                    '0.0, 0.0, 0.0, 0.0, 0.0, 0.0, 0.0, 0.0, '\n",
      "                                    '0.0, 0.0, 0.0, 0.0, 0.0, 0.0, 0.0, 0.0, '\n",
      "                                    '0.0]',\n",
      "              'keywords_weight': '[0.17432298014822287, 0.025833928746550106, '\n",
      "                                 '0.1699659563737234, 0.12597542694630073, '\n",
      "                                 '0.12597542694630073, 0.12597542694630073, '\n",
      "                                 '0.12597542694630073, 0.12597542694630073]',\n",
      "              'strength': '0.08832818685870826',\n",
      "              'topic': 'judicial watch;strzok firing;watch strzok;tom '\n",
      "                       'fitton;mueller operation;fitton judicial;firing '\n",
      "                       'mueller;conduct outrageous'},\n",
      "             {'doc_id': '[2, 3, 4, 6, 7, 8, 9, 10, 11, 12, 13, 15, 16, 17, 18, '\n",
      "                        '22, 23, 24, 25, 26, 27, 28, 29, 30, 31, 32, 33, 34, '\n",
      "                        '37, 38, 39, 40, 41, 42, 43, 44, 45, 46, 47, 48, 50, '\n",
      "                        '51, 52, 53, 54, 55, 56, 57, 58, 59, 60, 62, 63, 65, '\n",
      "                        '66, 67, 68, 69, 70, 71, 72, 73, 74, 75, 76, 77, 78, '\n",
      "                        '80, 81, 82, 83, 84, 86, 87, 88, 89, 90, 91, 92, 93, '\n",
      "                        '94, 95, 96, 97, 98, 99]',\n",
      "              'doc_topic_exposure': '[0.0, 0.0, 0.0, 0.0, 0.0, 0.0, 0.0, '\n",
      "                                    '0.9198662110078001, 0.0, 0.0, 0.0, 0.0, '\n",
      "                                    '0.0, 0.0, 0.0, 0.0, 0.0, 0.0, 0.0, 0.0, '\n",
      "                                    '0.0, 0.0, 0.0, 0.0, 0.0, 0.0, 0.0, 0.0, '\n",
      "                                    '0.0, 0.0, 0.0, 0.0, 0.0, 0.0, 0.0, 0.0, '\n",
      "                                    '0.0, 0.0, 0.0, 0.0, 0.0, 0.0, 0.0, 0.0, '\n",
      "                                    '0.0, 0.0, 0.0, 0.0, 0.0, 0.0, 0.0, 0.0, '\n",
      "                                    '0.0, 0.0, 0.0, 0.0, 0.0, 0.0, 0.0, 0.0, '\n",
      "                                    '0.0, 0.0, 0.0, 0.0, 0.0, 0.0, 0.0, 0.0, '\n",
      "                                    '0.0, 0.0, 0.0, 0.0, 0.0, 0.0, 0.0, 0.0, '\n",
      "                                    '0.0, 0.0, 0.0, 0.0, 0.0, 0.0, 0.0, 0.0, '\n",
      "                                    '0.0, 0.0]',\n",
      "              'keywords_weight': '[0.1111111111111111, 0.1111111111111111, '\n",
      "                                 '0.1111111111111111, 0.1111111111111111, '\n",
      "                                 '0.1111111111111111, 0.1111111111111111, '\n",
      "                                 '0.1111111111111111, 0.2222222222222222]',\n",
      "              'strength': '0.06393348778916746',\n",
      "              'topic': 'statute violation;violation bribery;honest '\n",
      "                       'services;gratuity statute;gain federal;financial '\n",
      "                       'gain;federal gratuity;bribery statute'}]}\n"
     ]
    }
   ],
   "source": [
    "dataset = dataset\n",
    "#query = '(\"Trump\" OR \"president\")' # str | Fulltext query, using mysql MATCH boolean query format. Example, (\\\"word1\\\" OR \\\"word2\\\") AND (\\\"word3\\\" OR \\\"word4\\\") (optional)\n",
    "query = ''\n",
    "custom_stop_words = [\"real\",\"hillary\"] # ERRORUNKNOWN | List of stop words. (optional)\n",
    "num_topics = 8 # int | Number of topics to be extracted from the dataset. (optional) (default to 8)\n",
    "metadata_selection =\"\" # str | json object of {\\\"metadata_field\\\":[\\\"selected_values\\\"]} (optional)\n",
    "time_period =\"\"# str | Time period selection (optional)\n",
    "\n",
    "try:\n",
    "    api_response = api_instance_topic.get_topic_api(\n",
    "        dataset,                                \n",
    "        query=query,                   \n",
    "        custom_stop_words=custom_stop_words,     \n",
    "        num_topics=num_topics,\n",
    "        metadata_selection=metadata_selection,\n",
    "        time_period=time_period)\n",
    "    pprint(api_response)\n",
    "except ApiException as e:\n",
    "    print(\"Exception when calling TopicsApi->get_topic_api: %s\\n\" % e)"
   ]
  },
  {
   "cell_type": "markdown",
   "metadata": {},
   "source": [
    "## Get topic summary"
   ]
  },
  {
   "cell_type": "code",
   "execution_count": 14,
   "metadata": {},
   "outputs": [
    {
     "name": "stdout",
     "output_type": "stream",
     "text": [
      "{'results': [{'summary': \"[{'title': 'D_Trump2018_8_17_19_25', 'sentences': \"\n",
      "                         '[\"Which is worse Hightax Andrew Cuomo\\'s statement '\n",
      "                         '“WE’RE NOT GOING TO MAKE AMERICA GREAT AGAIN IT WAS '\n",
      "                         'NEVER THAT GREAT” or Hillary Clinton’s “DEPLORABLES” '\n",
      "                         'statement...\"], \\'sourceid\\': 16, \\'attribute\\': '\n",
      "                         \"{'author': 'D_Trump16', 'counts': None, 'time': \"\n",
      "                         \"1534559100.0}}, {'title': 'D_Trump2018_8_17_11_44', \"\n",
      "                         \"'sentences': ['How does a politician Cuomo known for \"\n",
      "                         'pushing people and businesses out of his state not '\n",
      "                         'to mention having the highest taxes in the U.S. '\n",
      "                         'survive making the statement WE’RE NOT GOING TO MAKE '\n",
      "                         \"AMERICA GREAT AGAIN IT WAS NEVER THAT GREAT?'], \"\n",
      "                         \"'sourceid': 24, 'attribute': {'author': 'D_Trump24', \"\n",
      "                         \"'counts': None, 'time': 1534531440.0}}, {'title': \"\n",
      "                         \"'D_Trump2018_8_16_2_2', 'sentences': ['“WE’RE NOT \"\n",
      "                         'GOING TO MAKE AMERICA GREAT AGAIN IT WAS NEVER THAT '\n",
      "                         'GREAT.” Can you believe this is the Governor of the '\n",
      "                         'Highest Taxed State in the U.S. Andrew Cuomo having '\n",
      "                         \"a total meltdown!'], 'sourceid': 44, 'attribute': \"\n",
      "                         \"{'author': 'D_Trump44', 'counts': None, 'time': \"\n",
      "                         \"1534410120.0}}, {'title': 'D_Trump2018_8_16_1_53', \"\n",
      "                         \"'sentences': ['“WE’RE NOT GONG TO MAKE AMERICA GREAT \"\n",
      "                         'AGAIN IT WAS NEVER THAT GREAT.”  Can you believe '\n",
      "                         'this is the Governor of the Highest Taxed State in '\n",
      "                         \"the U.S. Andrew Cuomo having a total meltdown!'], \"\n",
      "                         \"'sourceid': 45, 'attribute': {'author': 'D_Trump45', \"\n",
      "                         \"'counts': None, 'time': 1534409580.0}}]\",\n",
      "              'topic': 'america great;great great;andrew cuomo;total '\n",
      "                       'meltdown;taxed andrew;highest taxed;governor '\n",
      "                       'highest;cuomo total'},\n",
      "             {'summary': \"[{'title': 'D_Trump2018_8_15_12_44', 'sentences': \"\n",
      "                         \"['“People who enter the United States without our \"\n",
      "                         'permission are illegal aliens and illegal aliens '\n",
      "                         'should not be treated the same as people who enters '\n",
      "                         'the U.S. legally.”  Chuck Schumer in 2009 before he '\n",
      "                         \"went left and haywire!'], 'sourceid': 63, \"\n",
      "                         \"'attribute': {'author': 'D_Trump63', 'counts': None, \"\n",
      "                         \"'time': 1534362240.0}}]\",\n",
      "              'topic': 'illegal aliens;united permission;schumer '\n",
      "                       'left;permission illegal;legally chuck;left '\n",
      "                       'haywire;chuck schumer;aliens treated'},\n",
      "             {'summary': \"[{'title': 'D_Trump2018_8_16_23_37', 'sentences': \"\n",
      "                         \"['“The FBI received documents from Bruce Ohr (of the \"\n",
      "                         'Justice Department  whose wife Nelly worked for '\n",
      "                         'Fusion GPS).” Disgraced and fired FBI Agent Peter '\n",
      "                         \"Strzok.'], 'sourceid': 33, 'attribute': {'author': \"\n",
      "                         \"'D_Trump33', 'counts': None, 'time': 1534487820.0}}, \"\n",
      "                         \"{'title': 'D_Trump2018_8_14_13_1', 'sentences': \"\n",
      "                         \"['Fired FBI Agent Peter Strzok is a fraud as is the \"\n",
      "                         \"rigged investigation he started.'], 'sourceid': 68, \"\n",
      "                         \"'attribute': {'author': 'D_Trump68', 'counts': None, \"\n",
      "                         \"'time': 1534276860.0}}, {'title': \"\n",
      "                         \"'D_Trump2018_8_14_11_55', 'sentences': ['Bruce Ohr \"\n",
      "                         'of the “Justice” Department (can you believe he is '\n",
      "                         'still there) is accused of helping disgraced '\n",
      "                         'Christopher Steele “find dirt on Trump.” Ohr’s wife '\n",
      "                         'Nelly was in on the act big time - worked for Fusion '\n",
      "                         \"GPS on Fake Dossier.'], 'sourceid': 70, 'attribute': \"\n",
      "                         \"{'author': 'D_Trump70', 'counts': None, 'time': \"\n",
      "                         \"1534272900.0}}, {'title': 'D_Trump2018_8_13_16_4', \"\n",
      "                         \"'sentences': ['Agent Peter Strzok was just fired \"\n",
      "                         \"from the FBI - finally.'], 'sourceid': 91, \"\n",
      "                         \"'attribute': {'author': 'D_Trump91', 'counts': None, \"\n",
      "                         \"'time': 1534201440.0}}]\",\n",
      "              'topic': 'bruce ohr;peter strzok;fired fbi;agent peter;wife '\n",
      "                       'nelly;ohr justice;justice department;fusion gps'},\n",
      "             {'summary': \"[{'title': 'D_Trump2018_8_16_1_14', 'sentences': \"\n",
      "                         \"['We have the unfortunate situation where they then \"\n",
      "                         'decided they were going to frame Donald Trump” '\n",
      "                         \"concerning the Rigged Witch Hunt.'], 'sourceid': 46, \"\n",
      "                         \"'attribute': {'author': 'D_Trump46', 'counts': None, \"\n",
      "                         \"'time': 1534407240.0}}, {'title': \"\n",
      "                         \"'D_Trump2018_8_14_13_10', 'sentences': ['Strzok \"\n",
      "                         'started the illegal Rigged Witch Hunt - why isn’t '\n",
      "                         \"this so-called “probe” ended immediately?'], \"\n",
      "                         \"'sourceid': 67, 'attribute': {'author': 'D_Trump67', \"\n",
      "                         \"'counts': None, 'time': 1534277400.0}}, {'title': \"\n",
      "                         \"'D_Trump2018_8_14_12_6', 'sentences': ['“They were \"\n",
      "                         'all in on it clear Hillary Clinton and FRAME Donald '\n",
      "                         'Trump for things he didn’t do.” Gregg Jarrett on '\n",
      "                         '@foxandfriends  If we had a real Attorney General '\n",
      "                         \"this Witch Hunt would never have been started!'], \"\n",
      "                         \"'sourceid': 69, 'attribute': {'author': 'D_Trump69', \"\n",
      "                         \"'counts': None, 'time': 1534273560.0}}]\",\n",
      "              'topic': 'witch hunt;donald trump;frame donald;hillary '\n",
      "                       'clinton;rigged witch;gregg jarrett;foxandfriends '\n",
      "                       'real;attorney witch'},\n",
      "             {'summary': \"[{'title': 'D_Trump2018_8_13_14_21', 'sentences': \"\n",
      "                         \"['While I know it’s “not presidential” to take on a \"\n",
      "                         'lowlife like Omarosa and while I would rather not be '\n",
      "                         'doing so this is a modern day form of communication '\n",
      "                         'and I know the Fake News Media will be working '\n",
      "                         'overtime to make even Wacky Omarosa look legitimate '\n",
      "                         \"as possible.'], 'sourceid': 93, 'attribute': \"\n",
      "                         \"{'author': 'D_Trump93', 'counts': None, 'time': \"\n",
      "                         '1534195260.0}}]',\n",
      "              'topic': 'fake news;news media;wacky omarosa;will '\n",
      "                       'overtime;presidential lowlife;omarosa modern;modern '\n",
      "                       'form;media will'},\n",
      "             {'summary': \"[{'title': 'D_Trump2018_8_14_11_21', 'sentences': \"\n",
      "                         \"['Lou Dobbs: “This cannot go forward...this Special \"\n",
      "                         'Councel with all of his conflicts with his 17 Angry '\n",
      "                         'Democrats without any evidence of collusion by the '\n",
      "                         \"Trump Campaign and Russia.'], 'sourceid': 73, \"\n",
      "                         \"'attribute': {'author': 'D_Trump73', 'counts': None, \"\n",
      "                         \"'time': 1534270860.0}}]\",\n",
      "              'topic': 'trump campaign;lou dobbs;forward special;evidence '\n",
      "                       'collusion;democrats evidence;conflicts angry;collusion '\n",
      "                       'trump;angry democrats'},\n",
      "             {'summary': \"[{'title': 'D_Trump2018_8_17_1_49', 'sentences': \"\n",
      "                         \"['His conduct has been outrageous.” Chris Farrell \"\n",
      "                         \"Judicial Watch.'], 'sourceid': 28, 'attribute': \"\n",
      "                         \"{'author': 'D_Trump28', 'counts': None, 'time': \"\n",
      "                         \"1534495740.0}}, {'title': 'D_Trump2018_8_14_10_59', \"\n",
      "                         \"'sentences': ['Tom Fitton of Judicial Watch: “The \"\n",
      "                         'Strzok firing is as much about the Mueller operation '\n",
      "                         \"as anything else.'], 'sourceid': 76, 'attribute': \"\n",
      "                         \"{'author': 'D_Trump76', 'counts': None, 'time': \"\n",
      "                         '1534269540.0}}]',\n",
      "              'topic': 'judicial watch;strzok firing;watch strzok;tom '\n",
      "                       'fitton;mueller operation;fitton judicial;firing '\n",
      "                       'mueller;conduct outrageous'},\n",
      "             {'summary': \"[{'title': 'D_Trump2018_8_18_1_47', 'sentences': \"\n",
      "                         \"['financial gain is a Federal Gratuity Statute \"\n",
      "                         'Violation Bribery Statute Violation Honest Services '\n",
      "                         \"Violation'], 'sourceid': 10, 'attribute': {'author': \"\n",
      "                         \"'D_Trump10', 'counts': None, 'time': 1534582020.0}}]\",\n",
      "              'topic': 'statute violation;violation bribery;honest '\n",
      "                       'services;gratuity statute;gain federal;financial '\n",
      "                       'gain;federal gratuity;bribery statute'}]}\n"
     ]
    }
   ],
   "source": [
    "dataset = dataset # str | Dataset name.\n",
    "#query = '(\"Trump\" OR \"president\")' # str | Fulltext query, using mysql MATCH boolean query format. Example, (\\\"word1\\\" OR \\\"word2\\\") AND (\\\"word3\\\" OR \\\"word4\\\") (optional)\n",
    "query = ''\n",
    "custom_stop_words = [\"real\",\"hillary\"] # ERRORUNKNOWN | List of stop words. (optional)\n",
    "num_topics = 8 # int | Number of topics to be extracted from the dataset. (optional) (default to 8)\n",
    "num_keywords = 8 # int | Number of keywords per topic that is extracted from the dataset. (optional) (default to 8)\n",
    "summary_length = 6 # int | The maximum number of bullet points a user wants to see in each topic summary. (optional) (default to 6)\n",
    "context_amount = 0 # int | The number of sentences surrounding key summary sentences in the documents that they come from. (optional) (default to 0)\n",
    "num_docs = 20 # int | The maximum number of key documents to use for summarization. (optional) (default to 20)\n",
    "excluded_docs = '' # str | List of document IDs that should be excluded from the analysis. Example, \\\"docid1, docid2, ..., docidN\\\"  (optional)\n",
    "\n",
    "try:\n",
    "    api_response = api_instance_topic.get_topic_summary_api(dataset, \n",
    "                                                      query=query, \n",
    "                                                      custom_stop_words=custom_stop_words, \n",
    "                                                      num_topics=num_topics, \n",
    "                                                      num_keywords=num_keywords, \n",
    "                                                      summary_length=summary_length, \n",
    "                                                      context_amount=context_amount, \n",
    "                                                      num_docs=num_docs)\n",
    "    pprint(api_response)\n",
    "except ApiException as e:\n",
    "    print(\"Exception when calling TopicsApi->get_topic_summary_api: %s\\n\" % e)"
   ]
  },
  {
   "cell_type": "markdown",
   "metadata": {},
   "source": [
    "## Get topic sentiment"
   ]
  },
  {
   "cell_type": "code",
   "execution_count": 15,
   "metadata": {},
   "outputs": [
    {
     "name": "stdout",
     "output_type": "stream",
     "text": [
      "{'results': [{'doc_id': '[2, 3, 4, 6, 7, 8, 9, 10, 11, 12, 13, 15, 16, 17, 18, '\n",
      "                        '22, 23, 24, 25, 26, 27, 28, 29, 30, 31, 32, 33, 34, '\n",
      "                        '37, 38, 39, 40, 41, 42, 43, 44, 45, 46, 47, 48, 50, '\n",
      "                        '51, 52, 53, 54, 55, 56, 57, 58, 59, 60, 62, 63, 65, '\n",
      "                        '66, 67, 68, 69, 70, 71, 72, 73, 74, 75, 76, 77, 78, '\n",
      "                        '80, 81, 82, 83, 84, 86, 87, 88, 89, 90, 91, 92, 93, '\n",
      "                        '94, 95, 96, 97, 98, 99]',\n",
      "              'doc_score': '[[0.13842981263820506, 0.080463311097383, '\n",
      "                           '0.07558211992548376, 0.09428682676944669, '\n",
      "                           '0.31289973656753545, 0.2983381930019461]]',\n",
      "              'doc_sentiment': '[0.2727272727272727, -0.2666666666666667, '\n",
      "                               '0.11764705882352941, 0.45454545454545453, 0.6, '\n",
      "                               '0.5454545454545454]',\n",
      "              'sentiment': '0.41851613034223817',\n",
      "              'strength': '0.17837120396865752',\n",
      "              'topic': 'america great;great great;andrew cuomo;total '\n",
      "                       'meltdown;taxed andrew;highest taxed;governor '\n",
      "                       'highest;cuomo total'},\n",
      "             {'doc_id': '[2, 3, 4, 6, 7, 8, 9, 10, 11, 12, 13, 15, 16, 17, 18, '\n",
      "                        '22, 23, 24, 25, 26, 27, 28, 29, 30, 31, 32, 33, 34, '\n",
      "                        '37, 38, 39, 40, 41, 42, 43, 44, 45, 46, 47, 48, 50, '\n",
      "                        '51, 52, 53, 54, 55, 56, 57, 58, 59, 60, 62, 63, 65, '\n",
      "                        '66, 67, 68, 69, 70, 71, 72, 73, 74, 75, 76, 77, 78, '\n",
      "                        '80, 81, 82, 83, 84, 86, 87, 88, 89, 90, 91, 92, 93, '\n",
      "                        '94, 95, 96, 97, 98, 99]',\n",
      "              'doc_score': '[[0.5, 0.5]]',\n",
      "              'doc_sentiment': '[-0.46153846153846156, -0.46153846153846156]',\n",
      "              'sentiment': '-0.46153846153846156',\n",
      "              'strength': '0.127866975578335',\n",
      "              'topic': 'illegal aliens;united permission;schumer '\n",
      "                       'left;permission illegal;legally chuck;left '\n",
      "                       'haywire;chuck schumer;aliens treated'},\n",
      "             {'doc_id': '[2, 3, 4, 6, 7, 8, 9, 10, 11, 12, 13, 15, 16, 17, 18, '\n",
      "                        '22, 23, 24, 25, 26, 27, 28, 29, 30, 31, 32, 33, 34, '\n",
      "                        '37, 38, 39, 40, 41, 42, 43, 44, 45, 46, 47, 48, 50, '\n",
      "                        '51, 52, 53, 54, 55, 56, 57, 58, 59, 60, 62, 63, 65, '\n",
      "                        '66, 67, 68, 69, 70, 71, 72, 73, 74, 75, 76, 77, 78, '\n",
      "                        '80, 81, 82, 83, 84, 86, 87, 88, 89, 90, 91, 92, 93, '\n",
      "                        '94, 95, 96, 97, 98, 99]',\n",
      "              'doc_score': '[[0.07570715190115823, 0.07570715190115823, '\n",
      "                           '0.04146651486073447, 0.08741908905942718, '\n",
      "                           '0.2618577180816574, 0.13461747240857871, '\n",
      "                           '0.15294577152089298, 0.1702791302663927]]',\n",
      "              'doc_sentiment': '[-0.3333333333333333, -0.3333333333333333, '\n",
      "                               '-0.1, -0.3125, -0.25, -0.625, '\n",
      "                               '-0.3157894736842105, -0.4]',\n",
      "              'sentiment': '-0.347947217991058',\n",
      "              'strength': '0.1699393633305403',\n",
      "              'topic': 'bruce ohr;peter strzok;fired fbi;agent peter;wife '\n",
      "                       'nelly;ohr justice;justice department;fusion gps'},\n",
      "             {'doc_id': '[2, 3, 4, 6, 7, 8, 9, 10, 11, 12, 13, 15, 16, 17, 18, '\n",
      "                        '22, 23, 24, 25, 26, 27, 28, 29, 30, 31, 32, 33, 34, '\n",
      "                        '37, 38, 39, 40, 41, 42, 43, 44, 45, 46, 47, 48, 50, '\n",
      "                        '51, 52, 53, 54, 55, 56, 57, 58, 59, 60, 62, 63, 65, '\n",
      "                        '66, 67, 68, 69, 70, 71, 72, 73, 74, 75, 76, 77, 78, '\n",
      "                        '80, 81, 82, 83, 84, 86, 87, 88, 89, 90, 91, 92, 93, '\n",
      "                        '94, 95, 96, 97, 98, 99]',\n",
      "              'doc_score': '[[0.034311584778366676, 0.2392635751299285, '\n",
      "                           '0.0668699576845911, 0.1236050827230481, '\n",
      "                           '0.28054648642895225, 0.03793288422410397, '\n",
      "                           '0.09456840107286371, 0.07301992373105955, '\n",
      "                           '0.04988210422708614]]',\n",
      "              'doc_sentiment': '[0.2727272727272727, -0.375, '\n",
      "                               '-0.8333333333333334, -0.8571428571428571, '\n",
      "                               '-0.3333333333333333, -0.2222222222222222, '\n",
      "                               '-0.16666666666666666, -0.2857142857142857, '\n",
      "                               '-0.4]',\n",
      "              'sentiment': '-0.40056041675921294',\n",
      "              'strength': '0.14963453118630626',\n",
      "              'topic': 'witch hunt;donald trump;frame donald;hillary '\n",
      "                       'clinton;rigged witch;gregg jarrett;foxandfriends '\n",
      "                       'real;attorney witch'},\n",
      "             {'doc_id': '[2, 3, 4, 6, 7, 8, 9, 10, 11, 12, 13, 15, 16, 17, 18, '\n",
      "                        '22, 23, 24, 25, 26, 27, 28, 29, 30, 31, 32, 33, 34, '\n",
      "                        '37, 38, 39, 40, 41, 42, 43, 44, 45, 46, 47, 48, 50, '\n",
      "                        '51, 52, 53, 54, 55, 56, 57, 58, 59, 60, 62, 63, 65, '\n",
      "                        '66, 67, 68, 69, 70, 71, 72, 73, 74, 75, 76, 77, 78, '\n",
      "                        '80, 81, 82, 83, 84, 86, 87, 88, 89, 90, 91, 92, 93, '\n",
      "                        '94, 95, 96, 97, 98, 99]',\n",
      "              'doc_score': '[[0.09415980058720225, 0.09415980058720225, '\n",
      "                           '0.23762662508220356, 0.10049363411313801, '\n",
      "                           '0.3915074309718749, 0.08205270865837908]]',\n",
      "              'doc_sentiment': '[-0.5, -0.375, -0.5, -0.5, 0.2857142857142857, '\n",
      "                               '-0.6666666666666666]',\n",
      "              'sentiment': '-0.19429249489176126',\n",
      "              'strength': '0.10265407626833728',\n",
      "              'topic': 'fake news;news media;wacky omarosa;will '\n",
      "                       'overtime;presidential lowlife;omarosa modern;modern '\n",
      "                       'form;media will'},\n",
      "             {'doc_id': '[2, 3, 4, 6, 7, 8, 9, 10, 11, 12, 13, 15, 16, 17, 18, '\n",
      "                        '22, 23, 24, 25, 26, 27, 28, 29, 30, 31, 32, 33, 34, '\n",
      "                        '37, 38, 39, 40, 41, 42, 43, 44, 45, 46, 47, 48, 50, '\n",
      "                        '51, 52, 53, 54, 55, 56, 57, 58, 59, 60, 62, 63, 65, '\n",
      "                        '66, 67, 68, 69, 70, 71, 72, 73, 74, 75, 76, 77, 78, '\n",
      "                        '80, 81, 82, 83, 84, 86, 87, 88, 89, 90, 91, 92, 93, '\n",
      "                        '94, 95, 96, 97, 98, 99]',\n",
      "              'doc_score': '[[0.07523892072598296, 0.047585271637391104, '\n",
      "                           '0.43858790381831303, 0.43858790381831303]]',\n",
      "              'doc_sentiment': '[-0.5, -0.3, -0.3333333333333333, '\n",
      "                               '-0.16666666666666666]',\n",
      "              'sentiment': '-0.2711889937633653',\n",
      "              'strength': '0.11927217501994786',\n",
      "              'topic': 'trump campaign;lou dobbs;forward special;evidence '\n",
      "                       'collusion;democrats evidence;conflicts angry;collusion '\n",
      "                       'trump;angry democrats'},\n",
      "             {'doc_id': '[2, 3, 4, 6, 7, 8, 9, 10, 11, 12, 13, 15, 16, 17, 18, '\n",
      "                        '22, 23, 24, 25, 26, 27, 28, 29, 30, 31, 32, 33, 34, '\n",
      "                        '37, 38, 39, 40, 41, 42, 43, 44, 45, 46, 47, 48, 50, '\n",
      "                        '51, 52, 53, 54, 55, 56, 57, 58, 59, 60, 62, 63, 65, '\n",
      "                        '66, 67, 68, 69, 70, 71, 72, 73, 74, 75, 76, 77, 78, '\n",
      "                        '80, 81, 82, 83, 84, 86, 87, 88, 89, 90, 91, 92, 93, '\n",
      "                        '94, 95, 96, 97, 98, 99]',\n",
      "              'doc_score': '[[0.14928961845850278, 0.07086731454374817, '\n",
      "                           '0.16575875228895917, 0.61408431470879]]',\n",
      "              'doc_sentiment': '[-0.4, -0.375, -0.75, -0.5714285714285714]',\n",
      "              'sentiment': '-0.5615154772447631',\n",
      "              'strength': '0.08832818685870826',\n",
      "              'topic': 'judicial watch;strzok firing;watch strzok;tom '\n",
      "                       'fitton;mueller operation;fitton judicial;firing '\n",
      "                       'mueller;conduct outrageous'},\n",
      "             {'doc_id': '[2, 3, 4, 6, 7, 8, 9, 10, 11, 12, 13, 15, 16, 17, 18, '\n",
      "                        '22, 23, 24, 25, 26, 27, 28, 29, 30, 31, 32, 33, 34, '\n",
      "                        '37, 38, 39, 40, 41, 42, 43, 44, 45, 46, 47, 48, 50, '\n",
      "                        '51, 52, 53, 54, 55, 56, 57, 58, 59, 60, 62, 63, 65, '\n",
      "                        '66, 67, 68, 69, 70, 71, 72, 73, 74, 75, 76, 77, 78, '\n",
      "                        '80, 81, 82, 83, 84, 86, 87, 88, 89, 90, 91, 92, 93, '\n",
      "                        '94, 95, 96, 97, 98, 99]',\n",
      "              'doc_score': '[[1.0]]',\n",
      "              'doc_sentiment': '[-0.8181818181818182]',\n",
      "              'sentiment': '-0.8181818181818182',\n",
      "              'strength': '0.06393348778916746',\n",
      "              'topic': 'statute violation;violation bribery;honest '\n",
      "                       'services;gratuity statute;gain federal;financial '\n",
      "                       'gain;federal gratuity;bribery statute'}]}\n"
     ]
    }
   ],
   "source": [
    "dataset = dataset # str | Dataset name.\n",
    "#query = '(\"Trump\" OR \"president\")' # str | Fulltext query, using mysql MATCH boolean query format. Example, (\\\"word1\\\" OR \\\"word2\\\") AND (\\\"word3\\\" OR \\\"word4\\\") (optional)\n",
    "query = ''\n",
    "custom_stop_words = [\"real\",\"hillary\"] # ERRORUNKNOWN | List of stop words. (optional)\n",
    "num_topics = 8 # int | Number of topics to be extracted from the dataset. (optional) (default to 8)\n",
    "num_keywords = 8 # int | Number of keywords per topic that is extracted from the dataset. (optional) (default to 8)\n",
    "excluded_docs = '' # str | List of document IDs that should be excluded from the analysis. Example, \\\"docid1, docid2, ..., docidN\\\"  (optional)\n",
    "\n",
    "try:\n",
    "    api_response = api_instance_topic.get_topic_sentiment_api(dataset, \n",
    "                                                        query=query, \n",
    "                                                        custom_stop_words=custom_stop_words, \n",
    "                                                        num_topics=num_topics, \n",
    "                                                        num_keywords=num_keywords)\n",
    "    pprint(api_response)\n",
    "except ApiException as e:\n",
    "    print(\"Exception when calling TopicsApi->get_topic_sentiment_api: %s\\n\" % e)"
   ]
  },
  {
   "cell_type": "markdown",
   "metadata": {},
   "source": [
    "## Get topic consensus"
   ]
  },
  {
   "cell_type": "code",
   "execution_count": 16,
   "metadata": {},
   "outputs": [
    {
     "name": "stdout",
     "output_type": "stream",
     "text": [
      "{'results': [{'consensus': '1.0',\n",
      "              'strength': '0.19177757782900554',\n",
      "              'topic': 'trump campaign;lou dobbs;forward special;evidence '\n",
      "                       'collusion;democrats evidence;conflicts angry;angry '\n",
      "                       'democrats'},\n",
      "             {'consensus': '1.0',\n",
      "              'strength': '0.1650124406807698',\n",
      "              'topic': 'donald trump;witch hunt;frame donald;unfortunate '\n",
      "                       'situation;trump rigged;situation decided;rigged witch'},\n",
      "             {'consensus': '1.0',\n",
      "              'strength': '0.1319963444679397',\n",
      "              'topic': 'dobbs forward;collusion trump;campaign russia;special '\n",
      "                       'counsel;counsel conflicts;special councel;councel '\n",
      "                       'conflicts'},\n",
      "             {'consensus': '1.0',\n",
      "              'strength': '0.13997391820620467',\n",
      "              'topic': 'bruce ohr;christopher steele;fake dossier;time '\n",
      "                       'fusion;helping disgraced;disgraced christopher;dirt '\n",
      "                       'trump'},\n",
      "             {'consensus': '1.0',\n",
      "              'strength': '0.10312214411557788',\n",
      "              'topic': 'trade deals;unfair trade;tariffs tariffs;tariffs '\n",
      "                       'leading;great trade;country built;built tariffs'},\n",
      "             {'consensus': '1.0',\n",
      "              'strength': '0.08249771529246229',\n",
      "              'topic': 'statements purport;purport trump;foreign '\n",
      "                       'power;director brennan;colluded foreign;campaign '\n",
      "                       'colluded;brennan statements'},\n",
      "             {'consensus': '1.0',\n",
      "              'strength': '0.10312214411557788',\n",
      "              'topic': 'heard heard;opposed horrible;leading great;horrible '\n",
      "                       'unfair;heard trump;deals opposed;deals inherited'},\n",
      "             {'consensus': '1.0',\n",
      "              'strength': '0.08249771529246229',\n",
      "              'topic': 'russia probe;probe will;learned bruce;foxbusiness '\n",
      "                       'mueller;fox news;firing james;afraid antitrump'}]}\n"
     ]
    }
   ],
   "source": [
    "dataset = dataset # str | Dataset name.\n",
    "query = '(\"Trump\" OR \"president\")' # str | Fulltext query, using mysql MATCH boolean query format. Example, (\\\"word1\\\" OR \\\"word2\\\") AND (\\\"word3\\\" OR \\\"word4\\\") (optional)\n",
    "custom_stop_words = [\"real\",\"hillary\"] # ERRORUNKNOWN | List of stop words. (optional)\n",
    "num_topics = 8 # int | Number of topics to be extracted from the dataset. (optional) (default to 8)\n",
    "num_keywords = 8 # int | Number of keywords per topic that is extracted from the dataset. (optional) (default to 8)\n",
    "excluded_docs = [''] # str | List of document IDs that should be excluded from the analysis. Example, \\\"docid1, docid2, ..., docidN\\\"  (optional)\n",
    "\n",
    "try:\n",
    "    api_response = api_instance_topic.get_topic_consensus_api(dataset, \n",
    "                                                        query=query, \n",
    "                                                        custom_stop_words=custom_stop_words, \n",
    "                                                        num_topics=num_topics, \n",
    "                                                        num_keywords=num_keywords)\n",
    "    pprint(api_response)\n",
    "except ApiException as e:\n",
    "    print(\"Exception when calling TopicsApi->get_topic_consensus_api: %s\\n\" % e)"
   ]
  },
  {
   "cell_type": "markdown",
   "metadata": {},
   "source": [
    "## Get author connectivity"
   ]
  },
  {
   "cell_type": "code",
   "execution_count": 17,
   "metadata": {},
   "outputs": [
    {
     "name": "stdout",
     "output_type": "stream",
     "text": [
      "{'results': None}\n"
     ]
    }
   ],
   "source": [
    "dataset = dataset # str | Dataset name.\n",
    "target_author = 'D_Trump16' # str | Name of the author to be analyzed.\n",
    "query = '' # str | Fulltext query, using mysql MATCH boolean query format. Subject covered by the author, on which to focus the analysis of connectivity. Example, (\\\"word1\\\" OR \\\"word2\\\") AND (\\\"word3\\\" OR \\\"word4\\\") (optional)\n",
    "custom_stop_words = [\"real\",\"hillary\"] # str | List of words possibly used by the target author that are considered not information-bearing. (optional)\n",
    "time_period = '' # str | Time period selection (optional)\n",
    "metadata_selection = '' # str | json object of {\\\"metadata_field\\\":[\\\"selected_values\\\"]} (optional)\n",
    "excluded_docs = [''] # str | List of document IDs that should be excluded from the analysis. Example, \\\"docid1, docid2, ..., docidN\\\"  (optional)\n",
    "\n",
    "try:\n",
    "    api_response = api_instance_topic.get_author_connectivity_api(\n",
    "        dataset, \n",
    "        target_author, \n",
    "        query=query, \n",
    "        custom_stop_words=custom_stop_words, \n",
    "        time_period=time_period, \n",
    "        metadata_selection=metadata_selection, \n",
    "        excluded_docs=excluded_docs)\n",
    "    pprint(api_response)\n",
    "except ApiException as e:\n",
    "    print(\"Exception when calling TopicsApi->get_author_connectivity_api: %s\\n\" % e)"
   ]
  },
  {
   "cell_type": "markdown",
   "metadata": {},
   "source": [
    "# Document APIs"
   ]
  },
  {
   "cell_type": "markdown",
   "metadata": {},
   "source": [
    "## Create API instance"
   ]
  },
  {
   "cell_type": "code",
   "execution_count": 18,
   "metadata": {},
   "outputs": [],
   "source": [
    "api_instance_doc = nucleus_client.DocumentsApi(nucleus_client.ApiClient(configuration))"
   ]
  },
  {
   "cell_type": "markdown",
   "metadata": {},
   "source": [
    "## Get document information without content"
   ]
  },
  {
   "cell_type": "code",
   "execution_count": 19,
   "metadata": {},
   "outputs": [
    {
     "name": "stdout",
     "output_type": "stream",
     "text": [
      "{'results': [{'attribute': {'author': 'D_Trump10',\n",
      "                            'source': None,\n",
      "                            'time': '1534582020.0'},\n",
      "              'sourceid': '10',\n",
      "              'title': 'D_Trump2018_8_18_1_47'},\n",
      "             {'attribute': {'author': 'D_Trump11',\n",
      "                            'source': None,\n",
      "                            'time': '1534581960.0'},\n",
      "              'sourceid': '11',\n",
      "              'title': 'D_Trump2018_8_18_1_46'},\n",
      "             {'attribute': {'author': 'D_Trump12',\n",
      "                            'source': None,\n",
      "                            'time': '1534581420.0'},\n",
      "              'sourceid': '12',\n",
      "              'title': 'D_Trump2018_8_18_1_37'},\n",
      "             {'attribute': {'author': 'D_Trump20',\n",
      "                            'source': None,\n",
      "                            'time': '1534534680.0'},\n",
      "              'sourceid': '20',\n",
      "              'title': 'D_Trump2018_8_17_12_38'}]}\n"
     ]
    }
   ],
   "source": [
    "dataset = dataset # str | Dataset name.\n",
    "doc_titles = ['D_Trump2018_8_18_1_47']   # str | The title of the document to retrieve. Example: \\\" \\\"title 1\\\" \\\"  (optional)\n",
    "doc_ids = ['11', '12', '20']      # int | The docid of the document to retrieve. Example: \\\"docid1\\\"  (optional)\n",
    "\n",
    "try:\n",
    "    api_response = api_instance_doc.get_doc_info(dataset, doc_titles=doc_titles, doc_ids=doc_ids)\n",
    "    pprint(api_response)\n",
    "except ApiException as e:\n",
    "    print(\"Exception when calling DocumentsApi->get_doc_info: %s\\n\" % e)"
   ]
  },
  {
   "cell_type": "markdown",
   "metadata": {},
   "source": [
    "## Display document details"
   ]
  },
  {
   "cell_type": "code",
   "execution_count": 20,
   "metadata": {},
   "outputs": [
    {
     "name": "stdout",
     "output_type": "stream",
     "text": [
      "{'results': [{'attribute': {'author': 'D_Trump10',\n",
      "                            'source': None,\n",
      "                            'time': '1534582020.0'},\n",
      "              'content': ' financial gain is a Federal Gratuity Statute '\n",
      "                         'Violation Bribery Statute Violation Honest Services '\n",
      "                         'Violation all Major Crimes because the DOJ is run by '\n",
      "                         'BLANK Jeff Sessions ”  Gregg Jarrett. So when does '\n",
      "                         'Mueller do what must be done? Probably never! '\n",
      "                         '@FoxNews',\n",
      "              'sourceid': '10',\n",
      "              'title': 'D_Trump2018_8_18_1_47'},\n",
      "             {'attribute': {'author': 'D_Trump11',\n",
      "                            'source': None,\n",
      "                            'time': '1534581960.0'},\n",
      "              'content': '“Bruce Ohr of DOJ is in legal jeopardy it’s '\n",
      "                         'astonishing that he’s still employed. Bruce  Nelly '\n",
      "                         'Ohr’s bank account is getting fatter  fatter because '\n",
      "                         'of the Dossier that they are both peddling. He '\n",
      "                         'doesn’t disclose it under Fed Regs. Using your '\n",
      "                         'Federal office for personal ',\n",
      "              'sourceid': '11',\n",
      "              'title': 'D_Trump2018_8_18_1_46'}]}\n"
     ]
    }
   ],
   "source": [
    "dataset = dataset # str | Dataset name.\n",
    "doc_titles = ['D_Trump2018_8_18_1_47']   # str | The title of the document to retrieve. Example: \\\" \\\"title 1\\\" \\\"  (optional)\n",
    "doc_ids = ['11']      # int | The docid of the document to retrieve. Example: \\\"docid1\\\"  (optional)\n",
    "\n",
    "try:\n",
    "    api_response = api_instance_doc.get_doc_display(dataset, doc_titles=doc_titles, doc_ids=doc_ids)\n",
    "    pprint(api_response)\n",
    "except ApiException as e:\n",
    "    print(\"Exception when calling DocumentsApi->get_doc_display_api: %s\\n\" % e)"
   ]
  },
  {
   "cell_type": "markdown",
   "metadata": {},
   "source": [
    "## Get document recommendation"
   ]
  },
  {
   "cell_type": "code",
   "execution_count": 21,
   "metadata": {},
   "outputs": [
    {
     "name": "stdout",
     "output_type": "stream",
     "text": [
      "{'results': [{'recommendations': [{'attribute': {'author': 'D_Trump73',\n",
      "                                                 'source': None,\n",
      "                                                 'time': '1534270860.0'},\n",
      "                                   'sourceid': '73',\n",
      "                                   'title': 'D_Trump2018_8_14_11_21'},\n",
      "                                  {'attribute': {'author': 'D_Trump66',\n",
      "                                                 'source': None,\n",
      "                                                 'time': '1534277700.0'},\n",
      "                                   'sourceid': '66',\n",
      "                                   'title': 'D_Trump2018_8_14_13_15'}],\n",
      "              'topic': 'trump campaign;lou dobbs;forward special;evidence '\n",
      "                       'collusion;democrats evidence;conflicts angry;angry '\n",
      "                       'democrats'},\n",
      "             {'recommendations': [{'attribute': {'author': 'D_Trump69',\n",
      "                                                 'source': None,\n",
      "                                                 'time': '1534273560.0'},\n",
      "                                   'sourceid': '69',\n",
      "                                   'title': 'D_Trump2018_8_14_12_6'},\n",
      "                                  {'attribute': {'author': 'D_Trump46',\n",
      "                                                 'source': None,\n",
      "                                                 'time': '1534407240.0'},\n",
      "                                   'sourceid': '46',\n",
      "                                   'title': 'D_Trump2018_8_16_1_14'}],\n",
      "              'topic': 'donald trump;witch hunt;frame donald;unfortunate '\n",
      "                       'situation;trump rigged;situation decided;rigged witch'},\n",
      "             {'recommendations': [{'attribute': {'author': 'D_Trump73',\n",
      "                                                 'source': None,\n",
      "                                                 'time': '1534270860.0'},\n",
      "                                   'sourceid': '73',\n",
      "                                   'title': 'D_Trump2018_8_14_11_21'},\n",
      "                                  {'attribute': {'author': 'D_Trump66',\n",
      "                                                 'source': None,\n",
      "                                                 'time': '1534277700.0'},\n",
      "                                   'sourceid': '66',\n",
      "                                   'title': 'D_Trump2018_8_14_13_15'}],\n",
      "              'topic': 'dobbs forward;collusion trump;campaign russia;special '\n",
      "                       'counsel;counsel conflicts;special councel;councel '\n",
      "                       'conflicts'},\n",
      "             {'recommendations': [{'attribute': {'author': 'D_Trump13',\n",
      "                                                 'source': None,\n",
      "                                                 'time': '1534570140.0'},\n",
      "                                   'sourceid': '13',\n",
      "                                   'title': 'D_Trump2018_8_17_22_29'},\n",
      "                                  {'attribute': {'author': 'D_Trump70',\n",
      "                                                 'source': None,\n",
      "                                                 'time': '1534272900.0'},\n",
      "                                   'sourceid': '70',\n",
      "                                   'title': 'D_Trump2018_8_14_11_55'}],\n",
      "              'topic': 'bruce ohr;christopher steele;fake dossier;time '\n",
      "                       'fusion;helping disgraced;disgraced christopher;dirt '\n",
      "                       'trump'},\n",
      "             {'recommendations': [{'attribute': {'author': 'D_Trump50',\n",
      "                                                 'source': None,\n",
      "                                                 'time': '1534370640.0'},\n",
      "                                   'sourceid': '50',\n",
      "                                   'title': 'D_Trump2018_8_15_15_4'}],\n",
      "              'topic': 'trade deals;unfair trade;tariffs tariffs;tariffs '\n",
      "                       'leading;great trade;country built;built tariffs'},\n",
      "             {'recommendations': [{'attribute': {'author': 'D_Trump27',\n",
      "                                                 'source': None,\n",
      "                                                 'time': '1534496040.0'},\n",
      "                                   'sourceid': '27',\n",
      "                                   'title': 'D_Trump2018_8_17_1_54'}],\n",
      "              'topic': 'statements purport;purport trump;foreign '\n",
      "                       'power;director brennan;colluded foreign;campaign '\n",
      "                       'colluded;brennan statements'},\n",
      "             {'recommendations': [{'attribute': {'author': 'D_Trump50',\n",
      "                                                 'source': None,\n",
      "                                                 'time': '1534370640.0'},\n",
      "                                   'sourceid': '50',\n",
      "                                   'title': 'D_Trump2018_8_15_15_4'},\n",
      "                                  {'attribute': {'author': 'D_Trump86',\n",
      "                                                 'source': None,\n",
      "                                                 'time': '1534205640.0'},\n",
      "                                   'sourceid': '86',\n",
      "                                   'title': 'D_Trump2018_8_13_17_14'}],\n",
      "              'topic': 'heard heard;opposed horrible;leading great;horrible '\n",
      "                       'unfair;heard trump;deals opposed;deals inherited'},\n",
      "             {'recommendations': [{'attribute': {'author': 'D_Trump13',\n",
      "                                                 'source': None,\n",
      "                                                 'time': '1534570140.0'},\n",
      "                                   'sourceid': '13',\n",
      "                                   'title': 'D_Trump2018_8_17_22_29'}],\n",
      "              'topic': 'russia probe;probe will;learned bruce;foxbusiness '\n",
      "                       'mueller;fox news;firing james;afraid antitrump'}]}\n"
     ]
    }
   ],
   "source": [
    "dataset = dataset # str | Dataset name.\n",
    "query = '(\"Trump\" OR \"president\")' # str | Fulltext query, using mysql MATCH boolean query format. Example, (\\\"word1\\\" OR \\\"word2\\\") AND (\\\"word3\\\" OR \\\"word4\\\") (optional)\n",
    "custom_stop_words = [\"real\",\"hillary\"] # ERRORUNKNOWN | List of stop words. (optional)\n",
    "num_topics = 8 # int | Number of topics to be extracted from the dataset. (optional) (default to 8)\n",
    "num_keywords = 8 # int | Number of keywords per topic that is extracted from the dataset. (optional) (default to 8)\n",
    "excluded_docs = '' # str | List of document IDs that should be excluded from the analysis. Example, \\\"docid1, docid2, ..., docidN\\\"  (optional)\n",
    "\n",
    "try:\n",
    "    api_response = api_instance_doc.get_doc_recommend_api(dataset, \n",
    "                                                      query=query, \n",
    "                                                      custom_stop_words=custom_stop_words, \n",
    "                                                      num_topics=num_topics, \n",
    "                                                      num_keywords=num_keywords)\n",
    "    pprint(api_response)\n",
    "except ApiException as e:\n",
    "    print(\"Exception when calling DocumentsApi->get_doc_recommend_api: %s\\n\" % e)"
   ]
  },
  {
   "cell_type": "markdown",
   "metadata": {},
   "source": [
    "## Get document summary"
   ]
  },
  {
   "cell_type": "code",
   "execution_count": 22,
   "metadata": {},
   "outputs": [
    {
     "name": "stdout",
     "output_type": "stream",
     "text": [
      "{'doc_title': 'D_Trump2018_8_15_15_4',\n",
      " 'summary': {'sentences': \"['Our Country was built on Tariffs and Tariffs are \"\n",
      "                          'now leading us to great new Trade Deals - as '\n",
      "                          'opposed to the horrible and unfair Trade Deals that '\n",
      "                          \"I inherited as your President.', 'Other Countries \"\n",
      "                          'should not be allowed to come in and steal the '\n",
      "                          \"wealth of our great U.S.A. No longer!']\",\n",
      "             'sourceid': '50'}}\n"
     ]
    }
   ],
   "source": [
    "dataset = dataset # str | Dataset name.\n",
    "doc_title = 'D_Trump2018_8_15_15_4' # str | The title of the document to be summarized.\n",
    "custom_stop_words = [\"real\",\"hillary\"] # ERRORUNKNOWN | List of stop words. (optional)\n",
    "summary_length = 6 # int | The maximum number of bullet points a user wants to see in the document summary. (optional) (default to 6)\n",
    "context_amount = 0 # int | The number of sentences surrounding key summary sentences in the documents that they come from. (optional) (default to 0)\n",
    "\n",
    "try:\n",
    "    api_response = api_instance_doc.get_doc_summary_api(dataset, doc_title, custom_stop_words=custom_stop_words, summary_length=summary_length, context_amount=context_amount)\n",
    "    pprint(api_response)\n",
    "except ApiException as e:\n",
    "    print(\"Exception when calling DocumentsApi->get_doc_summary_api: %s\\n\" % e)"
   ]
  },
  {
   "cell_type": "code",
   "execution_count": null,
   "metadata": {},
   "outputs": [],
   "source": []
  },
  {
   "cell_type": "code",
   "execution_count": null,
   "metadata": {},
   "outputs": [],
   "source": []
  }
 ],
 "metadata": {
  "celltoolbar": "Raw Cell Format",
  "kernelspec": {
   "display_name": "Python 3",
   "language": "python",
   "name": "python3"
  },
  "language_info": {
   "codemirror_mode": {
    "name": "ipython",
    "version": 3
   },
   "file_extension": ".py",
   "mimetype": "text/x-python",
   "name": "python",
   "nbconvert_exporter": "python",
   "pygments_lexer": "ipython3",
   "version": "3.6.2"
  }
 },
 "nbformat": 4,
 "nbformat_minor": 2
}
