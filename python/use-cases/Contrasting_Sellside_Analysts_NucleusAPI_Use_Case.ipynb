{
 "cells": [
  {
   "cell_type": "markdown",
   "metadata": {},
   "source": [
    "<h1><center>  Contrasting Sell-side Analysts - Nucleus APIs Use Cases</center></h1>\n",
    "\n",
    "\n",
    "<h1><center>  SumUp Analytics, Proprietary & Confidential</center></h1>\n",
    "\n",
    "\n",
    "<h1><center>  Disclaimers and Terms of Service available at www.sumup.ai</center></h1>\n",
    "\n",
    "\n",
    " \n",
    "\n",
    "\n",
    "## Objective: \n",
    "-\tDevelop a pipeline to compare and contrast research analysts at different banks \n",
    "\n",
    "**SumUp contrast analysis works on the premise of two distinct categories of documents within a corpus, defined by the user based on metadata or content**\n",
    "\n",
    "## Data:\n",
    "-\tSell-side research reports, such as equity research or macro research\n",
    "\n",
    "    **The Nucleus Datafeed can be leveraged for all content from major Central Banks and SEC filings**\n",
    "\n",
    "\n",
    "## Nucleus APIs:\n",
    "-\tDataset creation API\n",
    " - \t*api_instance.post_upload_file(file, dataset)*\n",
    " - \t*nucleus_helper.import_files(api_instance, dataset, file_iters, processes=1)*\n",
    "\n",
    "        nucleus_helper.import_files leverages api_instance.post_upload_file with parallel execution to speed-up the dataset creation\n",
    "\n",
    "\n",
    "-\tTopic Modeling API\n",
    " - \t*api_instance.post_topic_api(payload)*\n",
    "\n",
    "\n",
    "-\tContrasted Topic Modeling API\n",
    " - \t*api_instance.post_topic_contrast_api(payload)*\n",
    " \n",
    " \n",
    "-\tDocument Contrasted Summary API\n",
    " - \t*api_instance.post_document_contrast_summary_api(payload)*"
   ]
  },
  {
   "cell_type": "markdown",
   "metadata": {},
   "source": [
    "## Approach:\n",
    "\n",
    "### 1.\tDataset Preparation\n",
    "-\tCreate a Nucleus dataset containing all relevant documents\n",
    "\n",
    "    "
   ]
  },
  {
   "cell_type": "code",
   "execution_count": null,
   "metadata": {},
   "outputs": [],
   "source": [
    "import csv\n",
    "import json\n",
    "import nucleus_api.api.nucleus_api as nucleus_helper\n",
    "import nucleus_api\n",
    "from nucleus_api.rest import ApiException\n",
    "\n",
    "configuration = nucleus_api.Configuration()\n",
    "configuration.host = 'UPDATE-WITH-API-SERVER-HOSTNAME'\n",
    "configuration.api_key['x-api-key'] = 'UPDATE-WITH-API-KEY'\n",
    "\n",
    "# Create API instance\n",
    "api_instance = nucleus_api.NucleusApi(nucleus_api.ApiClient(configuration))"
   ]
  },
  {
   "cell_type": "code",
   "execution_count": null,
   "metadata": {},
   "outputs": [],
   "source": [
    "folder = 'Sellside_research'         \n",
    "dataset = 'Sellside_research'# str | Destination dataset where the file will be inserted.\n",
    "\n",
    "# build file iterable from a folder recursively. \n",
    "# Each item in the iterable is in the format below:\n",
    "# {'filename': filename,   # filename to be uploaded. REQUIRED\n",
    "#  'metadata': {           # metadata for the file. Optional\n",
    "#      'key1': val1,       # keys can have arbiturary names as long as the names only\n",
    "#      'key2': val2        # contain alphanumeric (0-9|a-z|A-Z) and underscore (_)\n",
    "#   } \n",
    "# }\n",
    "file_iter = []\n",
    "for root, dirs, files in os.walk(folder):\n",
    "    for file in files:\n",
    "        file_dict = {'filename': os.path.join(root, file),\n",
    "                     'metadata': {'company': 'Apple',\n",
    "                                  'research_analyst': 'MS', # Modify the logic here to extract the name of the bank for a given report\n",
    "                                  'date': '2019-01-01'}}\n",
    "        file_iter.append(file_dict)\n",
    "\n",
    "file_props = nucleus_helper.upload_files(api_instance, dataset, file_iter, processes=4)\n",
    "for fp in file_props:\n",
    "    print(fp.filename, '(', fp.size, 'bytes) has been added to dataset', dataset)"
   ]
  },
  {
   "cell_type": "markdown",
   "metadata": {},
   "source": [
    "### 2.\tDocument Contrasted Summarization\n",
    "\n",
    "-    In this example, we define one category of documents as being produced by research analysts at Morgan Stanley. The second category of documents will be comprised of all other research reports\n",
    "\n",
    "\n",
    "-    We construct contrast summarization that separates the MS reports from other banks' reports\n",
    "\n",
    "\n",
    "-\tUse the following input parameters to control the size of the summary and filter sentences that are too short or too lengthy.\n",
    "    - `summary_length`\n",
    "    - `context_amount` (the number of sentences around each key summary sentence)\n",
    "    - `short_sentence_length`\n",
    "    - `long_sentence_length`\n",
    "    \n",
    "\n",
    "-\tSet the following parameters to adjust or refine the focus and content of the contrasted summary\n",
    "    - `custom_stop_words` (list of custom stopwords)\n",
    "    - `syntax_variables` (including / excluding syntax variables)\n",
    "    - `num_keywords` (controlling the breadth of the contrasted summary)\n",
    "    - `remove_redundancies` (removing redundancies)\n",
    "\n",
    "\n",
    "-\tFurther down, we discuss how to construct a customized stopwords list to refine document contrasted summaries"
   ]
  },
  {
   "cell_type": "code",
   "execution_count": null,
   "metadata": {},
   "outputs": [],
   "source": [
    "print('---------------- Get doc contrasted summaries ------------------------')\n",
    "metadata_selection_contrast = {\"research_analyst\": \"MS\"} # dict | The metadata selection defining the two categories of documents to contrast and summarize against each other\n",
    "\n",
    "query = '' # str | Dataset-language-specific fulltext query, using mysql MATCH boolean query format (optional)\n",
    "custom_stop_words = [\"morgan stanley\"] # List of stop words. (optional)\n",
    "summary_length = 6 # int | The maximum number of bullet points a user wants to see in the contrasted summary. (optional) (default to 6)\n",
    "context_amount = 0 # int | The number of sentences surrounding key summary sentences in the documents that they come from. (optional) (default to 0)\n",
    "short_sentence_length = 0 # int | The sentence length below which a sentence is excluded from summarization (optional) (default to 4)\n",
    "long_sentence_length = 40 # int | The sentence length beyond which a sentence is excluded from summarization (optional) (default to 40)\n",
    "excluded_docs = '' # str | List of document IDs that should be excluded from the analysis. Example, [\"docid1\", \"docid2\", ..., \"docidN\"]  (optional)\n",
    "syntax_variables = True # bool | Specifies whether to take into account syntax aspects of each category of documents to help with contrasting them (optional) (default to False)\n",
    "num_keywords = 20 # integer | Number of keywords for the contrasted topic that is extracted from the dataset. (optional) (default to 50)\n",
    "remove_redundancies = False # bool | If True, this option removes quasi-duplicates from the analysis and reatins only one copy of it. A quasi-duplicate would have the same NLP representation, but not necessarily the exact same text. (optional) (default False)\n",
    "\n",
    "payload = nucleus_api.DocumentContrastSummaryModel(dataset=\"Sellside_research\", \n",
    "                                                    metadata_selection_contrast=metadata_selection_contrast,\n",
    "                                                    custom_stop_words=custom_stop_words,\n",
    "                                                    period_start='2018-01-01',\n",
    "                                                    period_end='2019-01-01')\n",
    "try:\n",
    "    api_response = api_instance.post_document_contrast_summary_api(payload)\n",
    "    api_ok = True\n",
    "except ApiException as e:\n",
    "    api_error = json.loads(e.body)\n",
    "    print('ERROR:', api_error['message'])\n",
    "    api_ok = False\n",
    "\n",
    "if api_ok:   \n",
    "    print('Summary for', [x for x in  metadata_selection_contrast.values()])\n",
    "    for sent in api_response.result.class_1_content.sentences:\n",
    "        print('    *', sent)\n",
    "    print('======')\n",
    "    for sent in api_response.result.class_2_content.sentences:\n",
    "        print('    *', sent)   "
   ]
  },
  {
   "cell_type": "markdown",
   "metadata": {},
   "source": [
    "Extend the analysis to a list of sell-side coverages"
   ]
  },
  {
   "cell_type": "code",
   "execution_count": null,
   "metadata": {},
   "outputs": [],
   "source": [
    "bank_list = [\"MS\", \"GS\", \"JPM\", \"Citi\", \"BofA\", \"Barcap\", \"CS\"]\n",
    "custom_stop_words = [\"morgan stanley\", \"goldman sachs\", \"jp morgan\", \"citigroup\", \"bank of america\", \"barclays\", \"credit suisse\", \"disclaimer\", \"disclosures\"] # List of stop words. (optional)\n",
    "\n",
    "query = '' # str | Dataset-language-specific fulltext query, using mysql MATCH boolean query format (optional)\n",
    "\n",
    "contrasts = []\n",
    "for i in range(len(bank_list)):\n",
    "    metadata_selection_contrast = {\"research_analyst\": bank_list[i]} # dict | The metadata selection defining the two categories of documents to contrast and summarize against each other\n",
    "\n",
    "    payload = nucleus_api.DocumentContrastSummaryModel(dataset=\"Sellside_research\", \n",
    "                                                        metadata_selection_contrast=metadata_selection_contrast,\n",
    "                                                        custom_stop_words=custom_stop_words,\n",
    "                                                        period_start='2019-01-01',\n",
    "                                                        period_end='2019-06-01')\n",
    "    try:\n",
    "        api_response = api_instance.post_document_contrast_summary_api(payload)\n",
    "        api_ok = True\n",
    "    except ApiException as e:\n",
    "        api_error = json.loads(e.body)\n",
    "        print('ERROR:', api_error['message'])\n",
    "        api_ok = False\n",
    "\n",
    "    if api_ok:   \n",
    "        contrasts.append({\"bank\": bank_list[i], \"contrast\":api_response.result.class_1_content.sentences})"
   ]
  },
  {
   "cell_type": "markdown",
   "metadata": {},
   "source": [
    "### 3.\tFine-tuning\n",
    "\n",
    "\n",
    "#### a. Specifying the `metadata_selection_contrast` for your contrasted topic\n",
    "\n",
    "-     Contrasting documents from two different entities\n",
    "\n",
    "    on your own data, e.g. sell-side research: "
   ]
  },
  {
   "cell_type": "code",
   "execution_count": null,
   "metadata": {},
   "outputs": [],
   "source": [
    "metadata_selection_contrast = {\"research_analyst\": [\"MS\", \"JPM\"]}"
   ]
  },
  {
   "cell_type": "markdown",
   "metadata": {},
   "source": [
    "    on SumUp data feed, e.g. Central Banks:"
   ]
  },
  {
   "cell_type": "code",
   "execution_count": null,
   "metadata": {},
   "outputs": [],
   "source": [
    "metadata_selection_contrast = {\"bank\": [\"federal_reserve\", \"ECB\"]}"
   ]
  },
  {
   "cell_type": "markdown",
   "metadata": {},
   "source": [
    "-     Contrasting different documents from a given entity\n",
    "\n",
    "    on SumUp data feed, e.g. Central Banks: "
   ]
  },
  {
   "cell_type": "code",
   "execution_count": null,
   "metadata": {},
   "outputs": [],
   "source": [
    "metadata_selection_contrast = {\"document_category\": [\"speech\", \"press release\"]}"
   ]
  },
  {
   "cell_type": "markdown",
   "metadata": {},
   "source": [
    "-     Contrasting documents that contain different keywords\n",
    "\n",
    "    on your own data, or on SumUp data feed: "
   ]
  },
  {
   "cell_type": "code",
   "execution_count": null,
   "metadata": {},
   "outputs": [],
   "source": [
    "metadata_selection_contrast = {\"content\": \"fundamentals\"}"
   ]
  },
  {
   "cell_type": "markdown",
   "metadata": {},
   "source": [
    "#### b.\tExcluding certain content from the contrasted summaries\n",
    "\n",
    "-   Exclude irrelavant keywords / topics to tailor your contrast analysis by using the `custom_stop_words` parameter in the Doc Contrasted Summary API\n",
    "\n",
    "\n",
    "-\tExtract keywords of the contrast topic on documents within your corpus and print the keywords of these topics\n",
    "\n"
   ]
  },
  {
   "cell_type": "code",
   "execution_count": null,
   "metadata": {},
   "outputs": [],
   "source": [
    "print('------------- Get list of topics from dataset --------------')\n",
    "\n",
    "payload = nucleus_api.Topics(dataset='Sellside_research',                         \n",
    "                            query='',                       \n",
    "                            num_topics=8, \n",
    "                            num_keywords=8,\n",
    "                            metadata_selection=metadata_selection_contrast)\n",
    "try:\n",
    "    api_response = api_instance.post_topic_api(payload)        \n",
    "    api_ok = True\n",
    "except ApiException as e:\n",
    "    api_error = json.loads(e.body)\n",
    "    print('ERROR:', api_error['message'])\n",
    "    api_ok = False\n",
    "\n",
    "if api_ok:       \n",
    "    for i, res in enumerate(api_response.result.topics):\n",
    "        print('Topic', i, ' keywords: ', res.keywords)    \n",
    "        print('---------------')"
   ]
  },
  {
   "cell_type": "markdown",
   "metadata": {},
   "source": [
    "Using your domain expertise or client / advisor input, you can determine if specific topics or keywords are not differentiated enough to contribute to document contrasted summaries. \n",
    "\n",
    "You can then tailor the document contrasted summaries by creating a `custom_stop_words` variable that contains those words. Initialize the variable as shown below and pass it in the payload of the main code of section 2: "
   ]
  },
  {
   "cell_type": "code",
   "execution_count": 1,
   "metadata": {},
   "outputs": [],
   "source": [
    "custom_stop_words = [\"disclaimer\",\"disclosure\"] # str | List of stop words. (optional)"
   ]
  },
  {
   "cell_type": "markdown",
   "metadata": {},
   "source": [
    "#### c. Focusing the contrasted summary on specific subjects potentially discussed in your corpus\n",
    "**query**: You can refine the contrasted summary by leveraging the query variable of the Doc Contrasted Summary API.\n",
    "\n",
    "Rerun Contrast Analysis APIs with a specific query or queries. Create a variable `query` and pass it in to the payload:"
   ]
  },
  {
   "cell_type": "code",
   "execution_count": null,
   "metadata": {},
   "outputs": [],
   "source": [
    "query = '(earnings OR cash flows)' # str | Fulltext query, using mysql MATCH boolean query format. Example: \"(word1 OR word2) AND (word3 OR word4)\" (optional)"
   ]
  },
  {
   "cell_type": "markdown",
   "metadata": {},
   "source": [
    "Copyright (c) 2019 SumUp Analytics, Inc. All Rights Reserved.\n",
    "\n",
    "NOTICE: All information contained herein is, and remains the property of SumUp Analytics Inc. and its suppliers, if any. The intellectual and technical concepts contained herein are proprietary to SumUp Analytics Inc. and its suppliers and may be covered by U.S. and Foreign Patents, patents in process, and are protected by trade secret or copyright law.\n",
    "\n",
    "Dissemination of this information or reproduction of this material is strictly forbidden unless prior written permission is obtained from SumUp Analytics Inc."
   ]
  },
  {
   "cell_type": "code",
   "execution_count": null,
   "metadata": {},
   "outputs": [],
   "source": []
  }
 ],
 "metadata": {
  "kernelspec": {
   "display_name": "Python 3",
   "language": "python",
   "name": "python3"
  },
  "language_info": {
   "codemirror_mode": {
    "name": "ipython",
    "version": 3
   },
   "file_extension": ".py",
   "mimetype": "text/x-python",
   "name": "python",
   "nbconvert_exporter": "python",
   "pygments_lexer": "ipython3",
   "version": "3.6.5"
  }
 },
 "nbformat": 4,
 "nbformat_minor": 2
}
