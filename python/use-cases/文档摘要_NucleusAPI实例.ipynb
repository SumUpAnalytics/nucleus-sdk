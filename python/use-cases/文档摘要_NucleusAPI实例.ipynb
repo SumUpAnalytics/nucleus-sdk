{
 "cells": [
  {
   "cell_type": "markdown",
   "metadata": {},
   "source": [
    "<h1><center>  文档摘要 -  Nucleus API实例</center></h1>\n",
    "\n",
    "\n",
    "<h1><center>  所有权及保密条款属SumUp Analytics所有 </center></h1>\n",
    "\n",
    "\n",
    "<h1><center>  免责声明和服务条款可通过 www.sumup.ai 获取 </center></h1>\n",
    "\n",
    "\n",
    " \n",
    "\n",
    "\n",
    "## 目标: \n",
    "-\t开发一个流程来定制和微调文档摘要\n",
    "\n",
    "\n",
    "## 数据:\n",
    "-\t来自同一领域的任何文档集合，可以在文档类型等分类方面进一步细化\n",
    "    **Nucleus Datafeed可提取主要中央银行的所有内容**\n",
    "\n",
    "\n",
    "## Nucleus APIs:\n",
    "-\t数据集创建 API\n",
    " - \t*api_instance.post_upload_file(file, dataset)*\n",
    " - \t*nucleus_helper.import_files(api_instance, dataset, file_iters, processes=1)*\n",
    "\n",
    "        nucleus_helper.import_files利用api_instance.post_upload_file并行执行来加速数据集的创建\n",
    "\n",
    "\n",
    "-\t主题建模 API\n",
    " - \t*api_instance.post_topic_api(payload)*\n",
    "\n",
    "\n",
    "-\t主题情绪 API\n",
    " - \t*api_instance.post_doc_summary_api(payload)*\n",
    "\n"
   ]
  },
  {
   "cell_type": "markdown",
   "metadata": {},
   "source": [
    "## 方法:\n",
    "\n",
    "### 1.\t数据集准备\n",
    "-\t创建一个Nucleus数据集，其中包含所选历史时期内的所有相关文档\n",
    "\n",
    "    "
   ]
  },
  {
   "cell_type": "code",
   "execution_count": null,
   "metadata": {},
   "outputs": [],
   "source": [
    "import csv\n",
    "import json\n",
    "import nucleus_api.api.nucleus_api as nucleus_helper\n",
    "import nucleus_api\n",
    "from nucleus_api.rest import ApiException\n",
    "\n",
    "configuration = nucleus_api.Configuration()\n",
    "configuration.host = 'UPDATE-WITH-API-SERVER-HOSTNAME'\n",
    "configuration.api_key['x-api-key'] = 'UPDATE-WITH-API-KEY'\n",
    "\n",
    "# 创建API实例\n",
    "api_instance = nucleus_api.NucleusApi(nucleus_api.ApiClient(configuration))"
   ]
  },
  {
   "cell_type": "code",
   "execution_count": null,
   "metadata": {},
   "outputs": [],
   "source": [
    "print('---- Case 1: you are using your own corpus, coming from a local folder ----')\n",
    "folder = 'Corporate_documents'         \n",
    "dataset = 'Corporate_docs'# str | 文件的目标数据集。\n",
    "\n",
    "# 以递归方式从文件夹构建文件。 \n",
    "# 每项都采用以下格式\n",
    "# {'filename': filename,   # 要上传的文件名。 必填\n",
    "#  'metadata': {           # 该文件的元数据。 可选\n",
    "#      'key1': val1,       # 只要名称，密钥就可以有任意名称\n",
    "#      'key2': val2        # 包含字母数字（0-9 | a-z | A-Z）和下划线（_）\n",
    "#   } \n",
    "# }\n",
    "file_iter = []\n",
    "for root, dirs, files in os.walk(folder):\n",
    "    for file in files:\n",
    "        #if Path(file).suffix == '.pdf': # .txt .doc .docx .rtf .html .csv also supported\n",
    "            file_dict = {'filename': os.path.join(root, file),\n",
    "                         'metadata': {'company': 'Apple',\n",
    "                                      'category': 'Press Release',\n",
    "                                      'date': '2019-01-01'}}\n",
    "            file_iter.append(file_dict)\n",
    "\n",
    "file_props = nucleus_helper.upload_files(api_instance, dataset, file_iter, processes=4)\n",
    "for fp in file_props:\n",
    "    print(fp.filename, '(', fp.size, 'bytes) has been added to dataset', dataset)\n",
    "\n",
    "    \n",
    "    \n",
    "print('---- Case 2: you are using an embedded datafeed ----')\n",
    "dataset = 'sumup/central_banks_chinese'# 从Nucleus自带数据。\n",
    "metadata_selection = {'bank': 'people_bank_of_china', 'document_category': ('speech', 'press release', 'publication')}"
   ]
  },
  {
   "cell_type": "markdown",
   "metadata": {},
   "source": [
    "### 2.\t文件摘要\n",
    "-\t使用以下输入参数来控制摘要的大小并过滤过短或过长的句子。\n",
    "    - `summary_length`\n",
    "    - `context_amount` (每个关键摘要句子周围的句子数)\n",
    "    - `short_sentence_length`\n",
    "    - `long_sentence_length`\n",
    "\n",
    "\n",
    "-\t创建自定义停用词列表（`custom_stop_words`）以调整或指定摘要的内容类型\n",
    "    - `custom_stop_words` (自定义停用词列表)\n",
    "\n",
    "\n",
    "-\t接下来，我们将讨论如何构建自定义的停用词列表以优化文档摘要\n",
    "\n"
   ]
  },
  {
   "cell_type": "code",
   "execution_count": null,
   "metadata": {},
   "outputs": [],
   "source": [
    "print('---------------- Get doc summaries ------------------------')\n",
    "# 这些都是摘要API的可能输入参数\n",
    "custom_stop_words = [\"decree\",\"motion\"] # 停用词列表。 （可选）\n",
    "summary_length = 6 # int | 用户希望在文档摘要中看到的最多点句数。 （可选）（默认为6）\n",
    "context_amount = 0 # int | 围绕关键摘要句子的句子数。 （可选）（默认为0）\n",
    "short_sentence_length = 0 # int | 从摘要中排除的短句子长度（可选）（默认为4）\n",
    "long_sentence_length = 40 # int | 从摘要中排除的长句子长度（可选）（默认为40）\n",
    "payload = nucleus_api.DocumentSummaryModel(dataset='Corporate_docs', \n",
    "                                        doc_title='my_title', \n",
    "                                        summary_length=summary_length)\n",
    "try:\n",
    "    api_response = api_instance.post_doc_summary_api(payload)\n",
    "    api_ok = True\n",
    "except ApiException as e:\n",
    "    api_error = json.loads(e.body)\n",
    "    print('ERROR:', api_error['message'])\n",
    "    api_ok = False\n",
    "\n",
    "if api_ok:   \n",
    "    print('Summary for', api_response.result.doc_title)\n",
    "    for sent in api_response.result.summary.sentences:\n",
    "        print('    *', sent)\n"
   ]
  },
  {
   "cell_type": "markdown",
   "metadata": {},
   "source": [
    "### 3.\t微调\n",
    "\n",
    "#### a.\t提取在语料库文档中找到的主题\n",
    "\n",
    "-   通过使用Doc Summary API中的`custom_stop_words`参数排除次要或无关的主题以定制对比度分析\n",
    "\n",
    "\n",
    "-\t提取具有相似属性（即文档类型，内容）的文档子集的关键主题，并打印这些主题的关键字"
   ]
  },
  {
   "cell_type": "code",
   "execution_count": null,
   "metadata": {},
   "outputs": [],
   "source": [
    "print('------------- Get list of topics from dataset --------------')\n",
    "\n",
    "payload = nucleus_api.Topics(dataset='Corporate_docs',                         \n",
    "                            query='',                       \n",
    "                            num_topics=8, \n",
    "                            num_keywords=8,\n",
    "                            metadata_selection=metadata_selection)\n",
    "try:\n",
    "    api_response = api_instance.post_topic_api(payload)        \n",
    "    api_ok = True\n",
    "except ApiException as e:\n",
    "    api_error = json.loads(e.body)\n",
    "    print('ERROR:', api_error['message'])\n",
    "    api_ok = False\n",
    "\n",
    "if api_ok:       \n",
    "    for i, res in enumerate(api_response.result.topics):\n",
    "        print('Topic', i, ' keywords: ', res.keywords)    \n",
    "        print('---------------')"
   ]
  },
  {
   "cell_type": "markdown",
   "metadata": {},
   "source": [
    "使用您的域专业知识或客户/顾问输入，您可以确定特定主题或关键字是否没有足够的区别来为文档摘要做出贡献。\n",
    "\n",
    "然后，您可以通过创建包含这些单词的`custom_stop_words`变量来定制文档对比摘要。 如下所示初始化变量并将其传递到第2节主代码的有效负载中："
   ]
  },
  {
   "cell_type": "code",
   "execution_count": 1,
   "metadata": {},
   "outputs": [],
   "source": [
    "custom_stop_words = [\"decree\",\"motion\"] # str | 停用词列表。 （可选）"
   ]
  },
  {
   "cell_type": "markdown",
   "metadata": {},
   "source": [
    "#### b.\t分离语库中特定的文档子集\n",
    "\n",
    "**Document types**: 您可以通过利用构建数据集期间提供的元数据选择器来优化主题的提取和隔离非主题/次要主题，以获得您感兴趣的任何级别的粒度。\n",
    "\n",
    "创建一个变量`metadata_selection`并将其传递给有效负载。 在整个语料库的子集上重新运行`post_topic_api`。\n",
    " "
   ]
  },
  {
   "cell_type": "code",
   "execution_count": null,
   "metadata": {},
   "outputs": [],
   "source": [
    "# 如果您创建了一个数据集，其中一个元数据是文档的类别，\n",
    "# 这个类别的一个值可能是'演讲'\n",
    "# 您可以专注于主题分析，并为语库中的所有语音文档创建自定义的停用词列表，以便在稍后的生产部署中用\n",
    "metadata_selection = {\"document_category\": \"speech\"}   # str | json object of {\\\"metadata_field\\\":[\\\"selected_values\\\"]} (optional)"
   ]
  },
  {
   "cell_type": "markdown",
   "metadata": {},
   "source": [
    "#### c. 在语料库中的某些主题上创建自定义停用词列表\n",
    "\n",
    "**query**: 您可以通过利用Topic API的查询变量来优化主题的提取和隔离非主题/次要主题。\n",
    "\n",
    "创建一个变量`query`并将其传递给有效负载。 在你的语库上重新运行`post_topic_api`，提到一个或多个特定单词。"
   ]
  },
  {
   "cell_type": "code",
   "execution_count": null,
   "metadata": {},
   "outputs": [],
   "source": [
    "query = '(veto rights OR jury decision OR verdict)' # str | 全文查询，使用mysql MATCH boolean query格式。 示例：“（word1 OR word2）AND（word3 OR word4）”（可选）"
   ]
  },
  {
   "cell_type": "markdown",
   "metadata": {},
   "source": [
    "版权(c) 2019年 SumUp Analytics 公司 版权所有。 \n",
    "\n",
    "通知：所有信息均属于SumUp Analytics Inc公司及其供应商的财产。 本合同所包含的知识产权和技术概念属于SumUp Analytics Inc.及其供应商的专利，可由美国和外国专利、在工艺中的专利以及受贸易秘密或版权法保护的专利涵盖。 \n",
    "\n",
    "除非得到SumUp Analytics公司的事先书面批准，否则严禁传播此类信息或复制此材料。 "
   ]
  },
  {
   "cell_type": "code",
   "execution_count": null,
   "metadata": {},
   "outputs": [],
   "source": []
  }
 ],
 "metadata": {
  "kernelspec": {
   "display_name": "Python 3",
   "language": "python",
   "name": "python3"
  },
  "language_info": {
   "codemirror_mode": {
    "name": "ipython",
    "version": 3
   },
   "file_extension": ".py",
   "mimetype": "text/x-python",
   "name": "python",
   "nbconvert_exporter": "python",
   "pygments_lexer": "ipython3",
   "version": "3.6.5"
  }
 },
 "nbformat": 4,
 "nbformat_minor": 2
}
