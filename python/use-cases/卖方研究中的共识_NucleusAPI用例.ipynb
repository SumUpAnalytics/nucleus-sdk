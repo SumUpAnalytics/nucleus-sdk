{
 "cells": [
  {
   "cell_type": "markdown",
   "metadata": {},
   "source": [
    "<h1><center>  卖方研究中的共识 -  Nucleus API用例</center></h1>\n",
    "\n",
    "\n",
    "<h1><center>  所有权及保密条款属SumUp Analytics所有 </center></h1>\n",
    "<h1><center>  免责声明和服务条款可通过www.sumup.ai获取 </center></h1>\n",
    "\n",
    "\n",
    "#  \n",
    "\n",
    "\n",
    "\n",
    "## 目标: \n",
    "-\t衡量卖方分析师对特定公司的共识\n",
    "\n",
    "\n",
    "## 数据:\n",
    "-\t卖方的股票研究报告\n",
    "\n",
    "\n",
    "\n",
    "## Nucleus APIs:\n",
    "-\t数据集创建 API\n",
    " - \t*api_instance.post_upload_file(file, dataset)*\n",
    " - \t*nucleus_helper.import_files(api_instance, dataset, file_iters, processes=1)*\n",
    "\n",
    "        nucleus_helper.import_files leverages api_instance.post_upload_file with parallel execution to speed-up the dataset creation\n",
    "\n",
    "\n",
    "-\t文件情绪 API\n",
    " - \t*api_instance.post_doc_sentiment_api(payload)*\n",
    " \n",
    "\n",
    "-\t主题建模 API\n",
    " - \t*api_instance.post_topic_api(payload)*\n",
    "\n",
    "\n",
    "-\tDocInfo API\n",
    " - \t*api_instance.post_doc_info(payload)*\n"
   ]
  },
  {
   "cell_type": "markdown",
   "metadata": {},
   "source": [
    "## 方法:\n",
    "\n",
    "### 1.\t数据集准备\n",
    "-\t创建包含所有相关文档的Nucleus数据集\n",
    "\n",
    "    "
   ]
  },
  {
   "cell_type": "code",
   "execution_count": null,
   "metadata": {},
   "outputs": [],
   "source": [
    "import csv\n",
    "import json\n",
    "import nucleus_api.api.nucleus_api as nucleus_helper\n",
    "import nucleus_api\n",
    "from nucleus_api.rest import ApiException\n",
    "\n",
    "configuration = nucleus_api.Configuration()\n",
    "configuration.host = 'UPDATE-WITH-API-SERVER-HOSTNAME'\n",
    "configuration.api_key['x-api-key'] = 'UPDATE-WITH-API-KEY'\n",
    "\n",
    "# 创建API实例\n",
    "api_instance = nucleus_api.NucleusApi(nucleus_api.ApiClient(configuration))"
   ]
  },
  {
   "cell_type": "code",
   "execution_count": null,
   "metadata": {},
   "outputs": [],
   "source": [
    "print('--------- Append all files from local folder to dataset in parallel -----------')\n",
    "folder = 'Sellside_research'         \n",
    "dataset = 'Sellside_research'# 字符串 | 文件的目标数据集.\n",
    "\n",
    "# 以递归方式从文件夹构建文件。  \n",
    "# 其中每个项目采用以下格式：\n",
    "# {'filename': filename,   # 要上传的文件名。必填\n",
    "#  'metadata': {           # 该文件的元数据。选填\n",
    "#      'key1': val1,       # 密钥就可以取任意名称，名字符合以下字符\n",
    "#      'key2': val2        # 包含字母数字（0-9 | a-z | A-Z）和下划线（_）\n",
    "#   } \n",
    "# }\n",
    "file_iter = []\n",
    "for root, dirs, files in os.walk(folder):\n",
    "    for file in files:\n",
    "        #如果 Path(file).suffix == '.pdf': # 也支持.txt .doc .docx .rtf .html .csv 格式\n",
    "            file_dict = {'filename': os.path.join(root, file),\n",
    "                         'metadata': {'ticker': 'AAPL',\n",
    "                                      'company': 'Apple',\n",
    "                                      'bank': 'Credit Suisse',\n",
    "                                      'category': 'sell side research'\n",
    "                                      'date': '2019-01-01'}}\n",
    "            file_iter.append(file_dict)\n",
    "\n",
    "file_props = nucleus_helper.upload_files(api_instance, dataset, file_iter, processes=4)\n",
    "for fp in file_props:\n",
    "    print(fp.filename, '(', fp.size, 'bytes) has been added to dataset', dataset)"
   ]
  },
  {
   "cell_type": "markdown",
   "metadata": {},
   "source": [
    "-\t对于给定日期，仅保留在其回顾期间发布的文档的子集\n",
    "\n",
    "**这可以直接在API中完成，以执行内容分析，如下所示**\n",
    "\n"
   ]
  },
  {
   "cell_type": "markdown",
   "metadata": {},
   "source": [
    "### 2.\t衡量一只股票在卖方的共识\n",
    "- 单选一只个股的所有文件\n",
    "\n",
    "\n",
    "- 衡量每个文件的情绪\n",
    "\n",
    "\n",
    "- 推导出共识值，以及与该情绪相似的银行的比例\n",
    " "
   ]
  },
  {
   "cell_type": "code",
   "execution_count": null,
   "metadata": {},
   "outputs": [],
   "source": [
    "# 提取一个公司的所有文档\n",
    "import numpy as np\n",
    "\n",
    "payload = nucleus_api.DocInfo(dataset='Sellside_research',\n",
    "                             metadata_selection={'ticker': 'AAPL'})\n",
    "api_response = api_instance.post_doc_info(payload)\n",
    "\n",
    "doc_list = []\n",
    "for res in api_response.result:        \n",
    "    doc_list.append(res.title) \n",
    "\n",
    "doc_list = np.unique(doc_list)\n",
    "\n",
    "print('-------- Get the sentiment of each document ----------------')\n",
    "reports_sentiment = []\n",
    "for i in range(len(company_list)):\n",
    "    payload = nucleus_api.DocumentSentimentModel(dataset='Sellside_research', \n",
    "                                                doc_title=doc_list[i], \n",
    "                                                custom_stop_words=\"\", \n",
    "                                                num_topics=10, \n",
    "                                                num_keywords=10)\n",
    "    try:\n",
    "        api_response = api_instance.post_doc_sentiment_api(payload)\n",
    "        api_ok = True\n",
    "    except ApiException as e:\n",
    "        api_error = json.loads(e.body)\n",
    "        print('ERROR:', api_error['message'])\n",
    "        api_ok = False\n",
    "\n",
    "    if api_ok:       \n",
    "        reports_sentiment.append(api_response.result.sentiment)\n",
    "\n",
    "# 推导出公司在卖方报告中的共识\n",
    "company_consensus = np.asscalar(max(reports_sentiment > 0, reports_sentiment < 0, reports_sentiment == 0) / len(reports_sentiment))\n"
   ]
  },
  {
   "cell_type": "markdown",
   "metadata": {},
   "source": [
    "-\t如有多个感兴趣的公司，每家公司重复以上步骤"
   ]
  },
  {
   "cell_type": "code",
   "execution_count": null,
   "metadata": {},
   "outputs": [],
   "source": [
    "import numpy as np\n",
    "\n",
    "# 感兴趣的公司名单\n",
    "company_list = ['AAPL', 'GOOG', 'FB', 'BABA', 'NFLX']\n",
    "\n",
    "# 每一个公司对应一个共识\n",
    "company_consensus = []\n",
    "for i in range(len(company_list)):  \n",
    "    # 获取讨论该公司的所有文档\n",
    "    payload = nucleus_api.DocInfo(dataset='Sellside_research',\n",
    "                                 metadata_selection={'ticker': company_list[i]})\n",
    "    api_response = api_instance.post_doc_info(payload)\n",
    "\n",
    "    doc_list = []\n",
    "    for res in api_response.result:        \n",
    "        doc_list.append(res.title) \n",
    "\n",
    "    doc_list = np.unique(doc_list)\n",
    "\n",
    "    # 获取每个文档的情绪\n",
    "    reports_sentiment = []\n",
    "    for j in range(len(company_list)):\n",
    "        payload = nucleus_api.DocumentSentimentModel(dataset='Sellside_research', \n",
    "                                                    doc_title=doc_list[j], \n",
    "                                                    custom_stop_words=\"\", \n",
    "                                                    num_topics=10, \n",
    "                                                    num_keywords=10)\n",
    "        try:\n",
    "            api_response = api_instance.post_doc_sentiment_api(payload)\n",
    "            api_ok = True\n",
    "        except ApiException as e:\n",
    "            api_error = json.loads(e.body)\n",
    "            print('ERROR:', api_error['message'])\n",
    "            api_ok = False\n",
    "\n",
    "        if api_ok:   \n",
    "            reports_sentiment.append(api_response.result.sentiment)\n",
    "\n",
    "    # 推断出该公司在卖方报告中的共识\n",
    "    company_consensus.append(np.asscalar(max(reports_sentiment > 0, reports_sentiment < 0, reports_sentiment == 0) / len(reports_sentiment)))"
   ]
  },
  {
   "cell_type": "markdown",
   "metadata": {},
   "source": [
    "### 3.\t结果\n",
    "-\t根据该公司的在这个行业中的共识值，绘制起该公司的共识价对比时间序列，或绘制该公司的共识价对比股票收益/波动率"
   ]
  },
  {
   "cell_type": "markdown",
   "metadata": {},
   "source": [
    "### 4.\t微调\n",
    "\n",
    "#### a.\t量身定制模型\n",
    "\n",
    "-   通过使用Document Sentiment API中的`custom_stop_words`参数，排除无关的主题以定制目标公司的共识\n",
    "\n",
    "\n",
    "-\t有针对性的筛选该公司一部分文档中的关键主题\n",
    "\n"
   ]
  },
  {
   "cell_type": "code",
   "execution_count": null,
   "metadata": {},
   "outputs": [],
   "source": [
    "print('------------- Get list of topics from dataset --------------')\n",
    "\n",
    "payload = nucleus_api.Topics(dataset='Sellside_research',                       \n",
    "                            query='',                       \n",
    "                            num_topics=20, \n",
    "                            num_keywords=5,\n",
    "                            metadata_selection={'ticker': 'AAPL'})\n",
    "try:\n",
    "    api_response = api_instance.post_topic_api(payload)        \n",
    "    api_ok = True\n",
    "except ApiException as e:\n",
    "    api_error = json.loads(e.body)\n",
    "    print('ERROR:', api_error['message'])\n",
    "    api_ok = False\n",
    "\n",
    "if api_ok:       \n",
    "    for i, res in enumerate(api_response.result.topics):\n",
    "        print('Topic', i, ' keywords: ', res.keywords)    \n",
    "        print('---------------')"
   ]
  },
  {
   "cell_type": "markdown",
   "metadata": {},
   "source": [
    "然后，您可以通过创建custom_stop_words变量来定制公司的共识。 例如，如下所示，定义一个变量，并将其加入上面第2节 “ 衡量一只股票在卖方的共识” 代码中的payload："
   ]
  },
  {
   "cell_type": "code",
   "execution_count": null,
   "metadata": {},
   "outputs": [],
   "source": [
    "custom_stop_words = [\"call\",\"report\"] # str | 停用词列表。 （可选）"
   ]
  },
  {
   "cell_type": "markdown",
   "metadata": {},
   "source": [
    "#### b.探索文档类型，回顾期，提取的主题数量的影响\n",
    "**num_topics**: 您可以通过更改元数据（payload）中的变量 `num_topics`来计算公司对不同广度主题的共识。\n",
    "- 在建立共识时，较大的值将包含更广泛的主题/内容，而较小的值将提供具有更简明的主题。\n",
    "- 如果num_topics太大，一些非常边缘的话题可能会在衡量公司共识时带来很多噪音。\n",
    "\n",
    "**Document types**: 您可以调查公司的共识如何随着不同类型的文档而变化，例如卖方研究，新闻或公司出版物。 在不同的数据集上重新运行第2节的主要代码。 您还可以使用所有可用类型的文档构建数据集，然后使用`metadata_selection`参数选择特定类型："
   ]
  },
  {
   "cell_type": "code",
   "execution_count": null,
   "metadata": {},
   "outputs": [],
   "source": [
    "metadata_selection = {\"category\": \"News\"}   # str | json object of {\\\"metadata_field\\\":[\\\"selected_values\\\"]} (optional)"
   ]
  },
  {
   "cell_type": "markdown",
   "metadata": {},
   "source": [
    "### 5.\t下一步\n",
    "-\t可能的扩展：针对不同的行业部门重复上述任务\n",
    "-   汇总某个行业中每家公司的情绪，以推断行业共识"
   ]
  },
  {
   "cell_type": "markdown",
   "metadata": {},
   "source": [
    "版权(c) 2019年 SumUp Analytics 公司 版权所有。 \n",
    "\n",
    "通知：所有信息均属于SumUp Analytics Inc公司及其供应商的财产。 本合同所包含的知识产权和技术概念属于SumUp Analytics Inc.及其供应商的专利，可由美国和外国专利、在工艺中的专利以及受贸易秘密或版权法保护的专利涵盖。 \n",
    "\n",
    "除非得到SumUp Analytics公司的事先书面批准，否则严禁传播此类信息或复制此材料。 "
   ]
  },
  {
   "cell_type": "code",
   "execution_count": null,
   "metadata": {},
   "outputs": [],
   "source": []
  }
 ],
 "metadata": {
  "kernelspec": {
   "display_name": "Python 3",
   "language": "python",
   "name": "python3"
  },
  "language_info": {
   "codemirror_mode": {
    "name": "ipython",
    "version": 3
   },
   "file_extension": ".py",
   "mimetype": "text/x-python",
   "name": "python",
   "nbconvert_exporter": "python",
   "pygments_lexer": "ipython3",
   "version": "3.6.5"
  }
 },
 "nbformat": 4,
 "nbformat_minor": 2
}
